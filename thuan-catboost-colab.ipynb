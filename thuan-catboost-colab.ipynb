{
  "nbformat": 4,
  "nbformat_minor": 0,
  "metadata": {
    "kernelspec": {
      "display_name": "Python 3",
      "language": "python",
      "name": "python3"
    },
    "language_info": {
      "codemirror_mode": {
        "name": "ipython",
        "version": 3
      },
      "file_extension": ".py",
      "mimetype": "text/x-python",
      "name": "python",
      "nbconvert_exporter": "python",
      "pygments_lexer": "ipython3",
      "version": "3.8.0"
    },
    "colab": {
      "name": "thuan-catboost-colab.ipynb",
      "provenance": [],
      "machine_shape": "hm"
    },
    "accelerator": "GPU"
  },
  "cells": [
    {
      "cell_type": "code",
      "metadata": {
        "id": "Zv8iHbyeK44S",
        "outputId": "ff8706b9-6547-4b18-a81c-56a6900b8457",
        "colab": {
          "base_uri": "https://localhost:8080/"
        }
      },
      "source": [
        "!pip install catboost"
      ],
      "execution_count": 2,
      "outputs": [
        {
          "output_type": "stream",
          "text": [
            "Requirement already satisfied: catboost in /usr/local/lib/python3.7/dist-packages (0.24.4)\n",
            "Requirement already satisfied: matplotlib in /usr/local/lib/python3.7/dist-packages (from catboost) (3.2.2)\n",
            "Requirement already satisfied: six in /usr/local/lib/python3.7/dist-packages (from catboost) (1.15.0)\n",
            "Requirement already satisfied: scipy in /usr/local/lib/python3.7/dist-packages (from catboost) (1.4.1)\n",
            "Requirement already satisfied: pandas>=0.24.0 in /usr/local/lib/python3.7/dist-packages (from catboost) (1.1.5)\n",
            "Requirement already satisfied: graphviz in /usr/local/lib/python3.7/dist-packages (from catboost) (0.10.1)\n",
            "Requirement already satisfied: numpy>=1.16.0 in /usr/local/lib/python3.7/dist-packages (from catboost) (1.19.5)\n",
            "Requirement already satisfied: plotly in /usr/local/lib/python3.7/dist-packages (from catboost) (4.4.1)\n",
            "Requirement already satisfied: cycler>=0.10 in /usr/local/lib/python3.7/dist-packages (from matplotlib->catboost) (0.10.0)\n",
            "Requirement already satisfied: python-dateutil>=2.1 in /usr/local/lib/python3.7/dist-packages (from matplotlib->catboost) (2.8.1)\n",
            "Requirement already satisfied: kiwisolver>=1.0.1 in /usr/local/lib/python3.7/dist-packages (from matplotlib->catboost) (1.3.1)\n",
            "Requirement already satisfied: pyparsing!=2.0.4,!=2.1.2,!=2.1.6,>=2.0.1 in /usr/local/lib/python3.7/dist-packages (from matplotlib->catboost) (2.4.7)\n",
            "Requirement already satisfied: pytz>=2017.2 in /usr/local/lib/python3.7/dist-packages (from pandas>=0.24.0->catboost) (2018.9)\n",
            "Requirement already satisfied: retrying>=1.3.3 in /usr/local/lib/python3.7/dist-packages (from plotly->catboost) (1.3.3)\n"
          ],
          "name": "stdout"
        }
      ]
    },
    {
      "cell_type": "code",
      "metadata": {
        "id": "tdYiSgF_KUXg"
      },
      "source": [
        "import numpy as np\n",
        "import seaborn as sns \n",
        "import matplotlib.pyplot as plt\n",
        "import pandas as pd\n",
        "from sklearn.model_selection import train_test_split\n",
        "from sklearn.metrics import classification_report, confusion_matrix, roc_auc_score, precision_score, recall_score, f1_score\n",
        "import pickle\n",
        "from catboost import CatBoostClassifier"
      ],
      "execution_count": 3,
      "outputs": []
    },
    {
      "cell_type": "code",
      "metadata": {
        "id": "MIDqet97L7v-",
        "outputId": "c99bc110-8232-4a00-affe-5b125ae227b7",
        "colab": {
          "base_uri": "https://localhost:8080/"
        }
      },
      "source": [
        "import os\r\n",
        "import urllib.request\r\n",
        "urllib.request.urlretrieve('https://raw.githubusercontent.com/doanthuan/viettelpay/master/util.py', 'util.py')"
      ],
      "execution_count": 4,
      "outputs": [
        {
          "output_type": "execute_result",
          "data": {
            "text/plain": [
              "('util.py', <http.client.HTTPMessage at 0x7f157d780c50>)"
            ]
          },
          "metadata": {
            "tags": []
          },
          "execution_count": 4
        }
      ]
    },
    {
      "cell_type": "code",
      "metadata": {
        "id": "p5F7NcUoLDrh"
      },
      "source": [
        "from util import *"
      ],
      "execution_count": 5,
      "outputs": []
    },
    {
      "cell_type": "code",
      "metadata": {
        "id": "LC-uGLyPX1H0",
        "outputId": "7d922be9-2d8a-49d0-841a-54a97654b0d1",
        "colab": {
          "base_uri": "https://localhost:8080/"
        }
      },
      "source": [
        "from google.colab import drive\r\n",
        "drive.mount('/content/drive')"
      ],
      "execution_count": 6,
      "outputs": [
        {
          "output_type": "stream",
          "text": [
            "Drive already mounted at /content/drive; to attempt to forcibly remount, call drive.mount(\"/content/drive\", force_remount=True).\n"
          ],
          "name": "stdout"
        }
      ]
    },
    {
      "cell_type": "code",
      "metadata": {
        "id": "UxDLQcVPKUXu"
      },
      "source": [
        "train_df = pd.read_csv(\"/content/drive/MyDrive/projects/viettelpay/code/data/data-3m.csv\")\n",
        "test_df = pd.read_csv(\"/content/drive/MyDrive/projects/viettelpay/code/data/data-202008.csv\")"
      ],
      "execution_count": 7,
      "outputs": []
    },
    {
      "cell_type": "code",
      "metadata": {
        "colab": {
          "base_uri": "https://localhost:8080/",
          "height": 326
        },
        "id": "KBIiHDh2KUXv",
        "outputId": "37c6f3f1-d12d-46f5-dafc-3c335c538317"
      },
      "source": [
        "train_df.head()"
      ],
      "execution_count": 8,
      "outputs": [
        {
          "output_type": "execute_result",
          "data": {
            "text/html": [
              "<div>\n",
              "<style scoped>\n",
              "    .dataframe tbody tr th:only-of-type {\n",
              "        vertical-align: middle;\n",
              "    }\n",
              "\n",
              "    .dataframe tbody tr th {\n",
              "        vertical-align: top;\n",
              "    }\n",
              "\n",
              "    .dataframe thead th {\n",
              "        text-align: right;\n",
              "    }\n",
              "</style>\n",
              "<table border=\"1\" class=\"dataframe\">\n",
              "  <thead>\n",
              "    <tr style=\"text-align: right;\">\n",
              "      <th></th>\n",
              "      <th>province_code</th>\n",
              "      <th>district_code</th>\n",
              "      <th>status_name</th>\n",
              "      <th>cust_name</th>\n",
              "      <th>msisdn</th>\n",
              "      <th>ben_cust_name</th>\n",
              "      <th>ben_msisdn</th>\n",
              "      <th>request_date</th>\n",
              "      <th>viettel_bank_code</th>\n",
              "      <th>channel_type_id</th>\n",
              "      <th>msisdn_channel</th>\n",
              "      <th>channel_code</th>\n",
              "      <th>staff_code</th>\n",
              "      <th>trans_amount</th>\n",
              "      <th>trans_fee</th>\n",
              "      <th>trans_type</th>\n",
              "      <th>process_code</th>\n",
              "      <th>channel_fee</th>\n",
              "      <th>shop_code</th>\n",
              "      <th>transfer_type</th>\n",
              "      <th>customer_fee</th>\n",
              "      <th>fee_partner</th>\n",
              "      <th>is_fraud</th>\n",
              "    </tr>\n",
              "  </thead>\n",
              "  <tbody>\n",
              "    <tr>\n",
              "      <th>0</th>\n",
              "      <td>H031</td>\n",
              "      <td>H031007</td>\n",
              "      <td>NaN</td>\n",
              "      <td>NaN</td>\n",
              "      <td>000186ca85dea743c31b</td>\n",
              "      <td>NaN</td>\n",
              "      <td>NaN</td>\n",
              "      <td>2020-07-20T16:44:41.000+07:00</td>\n",
              "      <td>KPP</td>\n",
              "      <td>37.0</td>\n",
              "      <td>000186ca85dea743c31b</td>\n",
              "      <td>6100280135</td>\n",
              "      <td>6100280135</td>\n",
              "      <td>446151.0</td>\n",
              "      <td>909.0</td>\n",
              "      <td>3.0</td>\n",
              "      <td>W_KPP301</td>\n",
              "      <td>700.0</td>\n",
              "      <td>6100280135</td>\n",
              "      <td>NaN</td>\n",
              "      <td>0.0</td>\n",
              "      <td>1000.0</td>\n",
              "      <td>0</td>\n",
              "    </tr>\n",
              "    <tr>\n",
              "      <th>1</th>\n",
              "      <td>P210</td>\n",
              "      <td>P210009</td>\n",
              "      <td>Đã hoàn trả tiền vào TK BCCS</td>\n",
              "      <td>HA THI XUYEN</td>\n",
              "      <td>00018fc18afe4b9bffaa</td>\n",
              "      <td>HA NGOC LUYEN</td>\n",
              "      <td>00017da8a27b9b7974a4</td>\n",
              "      <td>2020-07-20T06:37:09.000+07:00</td>\n",
              "      <td>KPP</td>\n",
              "      <td>1.0</td>\n",
              "      <td>000176d2f9ca9c597448</td>\n",
              "      <td>1001344100_00772_DB</td>\n",
              "      <td>1001344100_00772_DB</td>\n",
              "      <td>4000000.0</td>\n",
              "      <td>12273.0</td>\n",
              "      <td>4.0</td>\n",
              "      <td>KPP501</td>\n",
              "      <td>10800.0</td>\n",
              "      <td>1001344100_VTP</td>\n",
              "      <td>BCCS</td>\n",
              "      <td>27000.0</td>\n",
              "      <td>0.0</td>\n",
              "      <td>0</td>\n",
              "    </tr>\n",
              "    <tr>\n",
              "      <th>2</th>\n",
              "      <td>H019</td>\n",
              "      <td>H019001</td>\n",
              "      <td>NaN</td>\n",
              "      <td>Triệu Thị Hon</td>\n",
              "      <td>000135da6ed6e6692327</td>\n",
              "      <td>Triệu Thị Hon</td>\n",
              "      <td>000135da6ed6e6692327</td>\n",
              "      <td>2020-07-20T13:41:46.000+07:00</td>\n",
              "      <td>VTT</td>\n",
              "      <td>164.0</td>\n",
              "      <td>0001e6d09b082d64e0fa</td>\n",
              "      <td>DIEPHTB_VTPOST_HGG</td>\n",
              "      <td>DIEPHTB_VTPOST_HGG</td>\n",
              "      <td>5000000.0</td>\n",
              "      <td>0.0</td>\n",
              "      <td>2.0</td>\n",
              "      <td>400100</td>\n",
              "      <td>7500.0</td>\n",
              "      <td>1800220009</td>\n",
              "      <td>NaN</td>\n",
              "      <td>0.0</td>\n",
              "      <td>0.0</td>\n",
              "      <td>0</td>\n",
              "    </tr>\n",
              "    <tr>\n",
              "      <th>3</th>\n",
              "      <td>H018</td>\n",
              "      <td>H018009</td>\n",
              "      <td>NaN</td>\n",
              "      <td>NaN</td>\n",
              "      <td>0001b6a32422e06151dd</td>\n",
              "      <td>NaN</td>\n",
              "      <td>NaN</td>\n",
              "      <td>2020-07-20T18:23:56.000+07:00</td>\n",
              "      <td>KPP</td>\n",
              "      <td>1.0</td>\n",
              "      <td>0001b6a32422e06151dd</td>\n",
              "      <td>1001530100_00433_DB</td>\n",
              "      <td>1001530100_00433_DB</td>\n",
              "      <td>248677.0</td>\n",
              "      <td>909.0</td>\n",
              "      <td>3.0</td>\n",
              "      <td>KPP301</td>\n",
              "      <td>700.0</td>\n",
              "      <td>1001530100_VTP</td>\n",
              "      <td>NaN</td>\n",
              "      <td>0.0</td>\n",
              "      <td>1000.0</td>\n",
              "      <td>0</td>\n",
              "    </tr>\n",
              "    <tr>\n",
              "      <th>4</th>\n",
              "      <td>N350</td>\n",
              "      <td>N350003</td>\n",
              "      <td>NaN</td>\n",
              "      <td>NaN</td>\n",
              "      <td>000110bbafc5de415ba3</td>\n",
              "      <td>NaN</td>\n",
              "      <td>NaN</td>\n",
              "      <td>2020-07-20T20:16:01.000+07:00</td>\n",
              "      <td>KPP</td>\n",
              "      <td>1.0</td>\n",
              "      <td>000110bbafc5de415ba3</td>\n",
              "      <td>1001240100_00647_DB</td>\n",
              "      <td>1001240100_00647_DB</td>\n",
              "      <td>461212.0</td>\n",
              "      <td>1000.0</td>\n",
              "      <td>3.0</td>\n",
              "      <td>KPP301</td>\n",
              "      <td>770.0</td>\n",
              "      <td>1001240100_VTP</td>\n",
              "      <td>NaN</td>\n",
              "      <td>0.0</td>\n",
              "      <td>1100.0</td>\n",
              "      <td>0</td>\n",
              "    </tr>\n",
              "  </tbody>\n",
              "</table>\n",
              "</div>"
            ],
            "text/plain": [
              "  province_code district_code  ... fee_partner is_fraud\n",
              "0          H031       H031007  ...      1000.0        0\n",
              "1          P210       P210009  ...         0.0        0\n",
              "2          H019       H019001  ...         0.0        0\n",
              "3          H018       H018009  ...      1000.0        0\n",
              "4          N350       N350003  ...      1100.0        0\n",
              "\n",
              "[5 rows x 23 columns]"
            ]
          },
          "metadata": {
            "tags": []
          },
          "execution_count": 8
        }
      ]
    },
    {
      "cell_type": "code",
      "metadata": {
        "colab": {
          "base_uri": "https://localhost:8080/"
        },
        "id": "qGOTySeDKUXy",
        "outputId": "f24dc9b0-abeb-4589-aa52-ed1e9704bbb2"
      },
      "source": [
        "cat_features = [\"province_code\", \"district_code\",\"viettel_bank_code\",\"channel_code\"\n",
        "                ,\"staff_code\",\"process_code\",\"shop_code\"]\n",
        "\n",
        "train_df = preprocess_data(train_df, cat_features)\n",
        "test_df = preprocess_data(test_df, cat_features)"
      ],
      "execution_count": 9,
      "outputs": [
        {
          "output_type": "stream",
          "text": [
            "/usr/local/lib/python3.7/dist-packages/pandas/core/frame.py:3069: SettingWithCopyWarning: \n",
            "A value is trying to be set on a copy of a slice from a DataFrame.\n",
            "Try using .loc[row_indexer,col_indexer] = value instead\n",
            "\n",
            "See the caveats in the documentation: https://pandas.pydata.org/pandas-docs/stable/user_guide/indexing.html#returning-a-view-versus-a-copy\n",
            "  self[k1] = value[k2]\n"
          ],
          "name": "stderr"
        }
      ]
    },
    {
      "cell_type": "code",
      "metadata": {
        "id": "3Bx3_C9cKUX0"
      },
      "source": [
        "y_train = train_df['is_fraud']\n",
        "X_train = train_df.drop(['is_fraud'], axis = 1)\n",
        "y_test = test_df['is_fraud']\n",
        "X_test = test_df.drop(['is_fraud'], axis = 1)\n",
        "    \n",
        "X_train, X_val, y_train, y_val = train_test_split( X_train, y_train, test_size=0.2, random_state=42)"
      ],
      "execution_count": 9,
      "outputs": []
    },
    {
      "cell_type": "code",
      "metadata": {
        "colab": {
          "base_uri": "https://localhost:8080/"
        },
        "id": "3K9lXM7dKUX1",
        "outputId": "ba08e8a3-34e7-4570-de29-431edec400a0"
      },
      "source": [
        "cat_model = CatBoostClassifier(\n",
        "    iterations=4000,\n",
        "    max_ctr_complexity=1,\n",
        "    random_seed=0,\n",
        "    od_type='Iter',\n",
        "    od_wait=25,\n",
        "    verbose=25,\n",
        "    depth=6,\n",
        "    task_type=\"GPU\",\n",
        "    loss_function=\"Logloss\",\n",
        "    eval_metric=\"AUC\"\n",
        ")\n",
        "\n",
        "cat_model.fit(\n",
        "    X_train, y_train,\n",
        "    cat_features=cat_features,\n",
        "    eval_set=(X_val, y_val)\n",
        ")"
      ],
      "execution_count": 10,
      "outputs": [
        {
          "output_type": "stream",
          "text": [
            "Learning rate set to 0.017585\n",
            "0:\tlearn: 0.8565025\ttest: 0.8557387\tbest: 0.8557387 (0)\ttotal: 217ms\tremaining: 14m 28s\n",
            "25:\tlearn: 0.9886458\ttest: 0.9889411\tbest: 0.9889928 (16)\ttotal: 5.41s\tremaining: 13m 47s\n",
            "50:\tlearn: 0.9899758\ttest: 0.9903359\tbest: 0.9903359 (50)\ttotal: 10.7s\tremaining: 13m 49s\n",
            "75:\tlearn: 0.9910247\ttest: 0.9912522\tbest: 0.9912522 (75)\ttotal: 16s\tremaining: 13m 45s\n",
            "100:\tlearn: 0.9912337\ttest: 0.9914524\tbest: 0.9914892 (96)\ttotal: 21.3s\tremaining: 13m 41s\n",
            "125:\tlearn: 0.9913084\ttest: 0.9915131\tbest: 0.9915131 (125)\ttotal: 26.6s\tremaining: 13m 38s\n",
            "150:\tlearn: 0.9915992\ttest: 0.9917961\tbest: 0.9917961 (150)\ttotal: 31.9s\tremaining: 13m 33s\n",
            "175:\tlearn: 0.9918705\ttest: 0.9920460\tbest: 0.9920460 (175)\ttotal: 37.2s\tremaining: 13m 28s\n",
            "200:\tlearn: 0.9920695\ttest: 0.9922327\tbest: 0.9922327 (200)\ttotal: 42.5s\tremaining: 13m 24s\n",
            "225:\tlearn: 0.9922388\ttest: 0.9924075\tbest: 0.9924075 (225)\ttotal: 47.9s\tremaining: 13m 19s\n",
            "250:\tlearn: 0.9923429\ttest: 0.9925200\tbest: 0.9925200 (250)\ttotal: 53.2s\tremaining: 13m 14s\n",
            "275:\tlearn: 0.9924597\ttest: 0.9926409\tbest: 0.9926409 (275)\ttotal: 58.6s\tremaining: 13m 10s\n",
            "300:\tlearn: 0.9925790\ttest: 0.9927556\tbest: 0.9927556 (300)\ttotal: 1m 3s\tremaining: 13m 5s\n",
            "325:\tlearn: 0.9927292\ttest: 0.9929026\tbest: 0.9929026 (325)\ttotal: 1m 9s\tremaining: 13m 1s\n",
            "350:\tlearn: 0.9928514\ttest: 0.9930150\tbest: 0.9930150 (350)\ttotal: 1m 14s\tremaining: 12m 56s\n",
            "375:\tlearn: 0.9929450\ttest: 0.9931057\tbest: 0.9931057 (375)\ttotal: 1m 20s\tremaining: 12m 51s\n",
            "400:\tlearn: 0.9930712\ttest: 0.9932219\tbest: 0.9932219 (400)\ttotal: 1m 25s\tremaining: 12m 47s\n",
            "425:\tlearn: 0.9931546\ttest: 0.9932970\tbest: 0.9932970 (425)\ttotal: 1m 30s\tremaining: 12m 42s\n",
            "450:\tlearn: 0.9932151\ttest: 0.9933456\tbest: 0.9933456 (450)\ttotal: 1m 36s\tremaining: 12m 37s\n",
            "475:\tlearn: 0.9932726\ttest: 0.9933932\tbest: 0.9933932 (475)\ttotal: 1m 41s\tremaining: 12m 32s\n",
            "500:\tlearn: 0.9933111\ttest: 0.9934260\tbest: 0.9934260 (500)\ttotal: 1m 46s\tremaining: 12m 27s\n",
            "525:\tlearn: 0.9933569\ttest: 0.9934650\tbest: 0.9934650 (525)\ttotal: 1m 52s\tremaining: 12m 22s\n",
            "550:\tlearn: 0.9933928\ttest: 0.9934945\tbest: 0.9934945 (550)\ttotal: 1m 57s\tremaining: 12m 17s\n",
            "575:\tlearn: 0.9934201\ttest: 0.9935207\tbest: 0.9935207 (575)\ttotal: 2m 3s\tremaining: 12m 11s\n",
            "600:\tlearn: 0.9934525\ttest: 0.9935469\tbest: 0.9935469 (599)\ttotal: 2m 8s\tremaining: 12m 6s\n",
            "625:\tlearn: 0.9934797\ttest: 0.9935686\tbest: 0.9935686 (625)\ttotal: 2m 13s\tremaining: 12m 1s\n",
            "650:\tlearn: 0.9935018\ttest: 0.9935868\tbest: 0.9935868 (650)\ttotal: 2m 19s\tremaining: 11m 56s\n",
            "675:\tlearn: 0.9935201\ttest: 0.9936035\tbest: 0.9936035 (675)\ttotal: 2m 24s\tremaining: 11m 51s\n",
            "700:\tlearn: 0.9935392\ttest: 0.9936200\tbest: 0.9936200 (700)\ttotal: 2m 30s\tremaining: 11m 46s\n",
            "725:\tlearn: 0.9935592\ttest: 0.9936391\tbest: 0.9936391 (725)\ttotal: 2m 35s\tremaining: 11m 41s\n",
            "750:\tlearn: 0.9935796\ttest: 0.9936556\tbest: 0.9936556 (750)\ttotal: 2m 40s\tremaining: 11m 35s\n",
            "775:\tlearn: 0.9935955\ttest: 0.9936683\tbest: 0.9936683 (775)\ttotal: 2m 46s\tremaining: 11m 30s\n",
            "800:\tlearn: 0.9936126\ttest: 0.9936835\tbest: 0.9936835 (800)\ttotal: 2m 51s\tremaining: 11m 25s\n",
            "825:\tlearn: 0.9936321\ttest: 0.9936996\tbest: 0.9936996 (825)\ttotal: 2m 57s\tremaining: 11m 20s\n",
            "850:\tlearn: 0.9936493\ttest: 0.9937142\tbest: 0.9937142 (850)\ttotal: 3m 2s\tremaining: 11m 15s\n",
            "875:\tlearn: 0.9936672\ttest: 0.9937284\tbest: 0.9937284 (875)\ttotal: 3m 7s\tremaining: 11m 9s\n",
            "900:\tlearn: 0.9936810\ttest: 0.9937392\tbest: 0.9937392 (900)\ttotal: 3m 13s\tremaining: 11m 4s\n",
            "925:\tlearn: 0.9936939\ttest: 0.9937488\tbest: 0.9937488 (924)\ttotal: 3m 18s\tremaining: 10m 59s\n",
            "950:\tlearn: 0.9937068\ttest: 0.9937608\tbest: 0.9937608 (950)\ttotal: 3m 24s\tremaining: 10m 54s\n",
            "975:\tlearn: 0.9937240\ttest: 0.9937747\tbest: 0.9937747 (975)\ttotal: 3m 29s\tremaining: 10m 48s\n",
            "1000:\tlearn: 0.9937355\ttest: 0.9937845\tbest: 0.9937845 (1000)\ttotal: 3m 34s\tremaining: 10m 43s\n",
            "1025:\tlearn: 0.9937479\ttest: 0.9937938\tbest: 0.9937938 (1025)\ttotal: 3m 40s\tremaining: 10m 38s\n",
            "1050:\tlearn: 0.9937603\ttest: 0.9938046\tbest: 0.9938046 (1050)\ttotal: 3m 45s\tremaining: 10m 32s\n",
            "1075:\tlearn: 0.9937729\ttest: 0.9938148\tbest: 0.9938148 (1075)\ttotal: 3m 50s\tremaining: 10m 27s\n",
            "1100:\tlearn: 0.9937817\ttest: 0.9938218\tbest: 0.9938218 (1100)\ttotal: 3m 56s\tremaining: 10m 22s\n",
            "1125:\tlearn: 0.9937917\ttest: 0.9938301\tbest: 0.9938301 (1125)\ttotal: 4m 1s\tremaining: 10m 17s\n",
            "1150:\tlearn: 0.9938021\ttest: 0.9938393\tbest: 0.9938393 (1150)\ttotal: 4m 7s\tremaining: 10m 11s\n",
            "1175:\tlearn: 0.9938130\ttest: 0.9938490\tbest: 0.9938490 (1175)\ttotal: 4m 12s\tremaining: 10m 6s\n",
            "1200:\tlearn: 0.9938225\ttest: 0.9938564\tbest: 0.9938564 (1200)\ttotal: 4m 17s\tremaining: 10m 1s\n",
            "1225:\tlearn: 0.9938320\ttest: 0.9938630\tbest: 0.9938630 (1225)\ttotal: 4m 23s\tremaining: 9m 55s\n",
            "1250:\tlearn: 0.9938427\ttest: 0.9938710\tbest: 0.9938710 (1250)\ttotal: 4m 28s\tremaining: 9m 50s\n",
            "1275:\tlearn: 0.9938520\ttest: 0.9938775\tbest: 0.9938775 (1274)\ttotal: 4m 33s\tremaining: 9m 44s\n",
            "1300:\tlearn: 0.9938619\ttest: 0.9938850\tbest: 0.9938850 (1300)\ttotal: 4m 39s\tremaining: 9m 39s\n",
            "1325:\tlearn: 0.9938713\ttest: 0.9938928\tbest: 0.9938928 (1325)\ttotal: 4m 44s\tremaining: 9m 34s\n",
            "1350:\tlearn: 0.9938794\ttest: 0.9938998\tbest: 0.9938999 (1349)\ttotal: 4m 50s\tremaining: 9m 28s\n",
            "1375:\tlearn: 0.9938877\ttest: 0.9939064\tbest: 0.9939064 (1375)\ttotal: 4m 55s\tremaining: 9m 23s\n",
            "1400:\tlearn: 0.9938970\ttest: 0.9939134\tbest: 0.9939134 (1400)\ttotal: 5m\tremaining: 9m 18s\n",
            "1425:\tlearn: 0.9939024\ttest: 0.9939173\tbest: 0.9939173 (1425)\ttotal: 5m 6s\tremaining: 9m 12s\n",
            "1450:\tlearn: 0.9939092\ttest: 0.9939227\tbest: 0.9939227 (1450)\ttotal: 5m 11s\tremaining: 9m 7s\n",
            "1475:\tlearn: 0.9939161\ttest: 0.9939284\tbest: 0.9939284 (1475)\ttotal: 5m 16s\tremaining: 9m 1s\n",
            "1500:\tlearn: 0.9939235\ttest: 0.9939348\tbest: 0.9939348 (1500)\ttotal: 5m 22s\tremaining: 8m 56s\n",
            "1525:\tlearn: 0.9939322\ttest: 0.9939417\tbest: 0.9939417 (1524)\ttotal: 5m 27s\tremaining: 8m 51s\n",
            "1550:\tlearn: 0.9939395\ttest: 0.9939470\tbest: 0.9939470 (1547)\ttotal: 5m 33s\tremaining: 8m 45s\n",
            "1575:\tlearn: 0.9939462\ttest: 0.9939517\tbest: 0.9939517 (1575)\ttotal: 5m 38s\tremaining: 8m 40s\n",
            "1600:\tlearn: 0.9939539\ttest: 0.9939582\tbest: 0.9939582 (1600)\ttotal: 5m 43s\tremaining: 8m 35s\n",
            "1625:\tlearn: 0.9939616\ttest: 0.9939631\tbest: 0.9939631 (1625)\ttotal: 5m 49s\tremaining: 8m 29s\n",
            "1650:\tlearn: 0.9939680\ttest: 0.9939681\tbest: 0.9939681 (1650)\ttotal: 5m 54s\tremaining: 8m 24s\n",
            "1675:\tlearn: 0.9939769\ttest: 0.9939753\tbest: 0.9939753 (1674)\ttotal: 5m 59s\tremaining: 8m 19s\n",
            "1700:\tlearn: 0.9939829\ttest: 0.9939801\tbest: 0.9939801 (1700)\ttotal: 6m 5s\tremaining: 8m 13s\n",
            "1725:\tlearn: 0.9939900\ttest: 0.9939866\tbest: 0.9939866 (1725)\ttotal: 6m 10s\tremaining: 8m 8s\n",
            "1750:\tlearn: 0.9939958\ttest: 0.9939911\tbest: 0.9939911 (1749)\ttotal: 6m 16s\tremaining: 8m 3s\n",
            "1775:\tlearn: 0.9940006\ttest: 0.9939949\tbest: 0.9939949 (1775)\ttotal: 6m 21s\tremaining: 7m 57s\n",
            "1800:\tlearn: 0.9940071\ttest: 0.9939996\tbest: 0.9939996 (1800)\ttotal: 6m 26s\tremaining: 7m 52s\n",
            "1825:\tlearn: 0.9940122\ttest: 0.9940039\tbest: 0.9940039 (1825)\ttotal: 6m 32s\tremaining: 7m 46s\n",
            "1850:\tlearn: 0.9940166\ttest: 0.9940069\tbest: 0.9940070 (1849)\ttotal: 6m 37s\tremaining: 7m 41s\n",
            "1875:\tlearn: 0.9940219\ttest: 0.9940107\tbest: 0.9940107 (1875)\ttotal: 6m 42s\tremaining: 7m 36s\n",
            "1900:\tlearn: 0.9940302\ttest: 0.9940178\tbest: 0.9940178 (1900)\ttotal: 6m 48s\tremaining: 7m 30s\n",
            "1925:\tlearn: 0.9940383\ttest: 0.9940240\tbest: 0.9940240 (1925)\ttotal: 6m 53s\tremaining: 7m 25s\n",
            "1950:\tlearn: 0.9940452\ttest: 0.9940290\tbest: 0.9940290 (1950)\ttotal: 6m 59s\tremaining: 7m 20s\n",
            "1975:\tlearn: 0.9940502\ttest: 0.9940323\tbest: 0.9940323 (1975)\ttotal: 7m 4s\tremaining: 7m 14s\n",
            "2000:\tlearn: 0.9940569\ttest: 0.9940377\tbest: 0.9940377 (2000)\ttotal: 7m 9s\tremaining: 7m 9s\n",
            "2025:\tlearn: 0.9940630\ttest: 0.9940426\tbest: 0.9940426 (2025)\ttotal: 7m 15s\tremaining: 7m 3s\n",
            "2050:\tlearn: 0.9940685\ttest: 0.9940472\tbest: 0.9940472 (2049)\ttotal: 7m 20s\tremaining: 6m 58s\n",
            "2075:\tlearn: 0.9940750\ttest: 0.9940519\tbest: 0.9940519 (2075)\ttotal: 7m 25s\tremaining: 6m 53s\n",
            "2100:\tlearn: 0.9940815\ttest: 0.9940564\tbest: 0.9940564 (2099)\ttotal: 7m 31s\tremaining: 6m 47s\n",
            "2125:\tlearn: 0.9940879\ttest: 0.9940614\tbest: 0.9940614 (2124)\ttotal: 7m 36s\tremaining: 6m 42s\n",
            "2150:\tlearn: 0.9940934\ttest: 0.9940651\tbest: 0.9940651 (2150)\ttotal: 7m 42s\tremaining: 6m 37s\n",
            "2175:\tlearn: 0.9941006\ttest: 0.9940706\tbest: 0.9940706 (2175)\ttotal: 7m 47s\tremaining: 6m 31s\n",
            "2200:\tlearn: 0.9941071\ttest: 0.9940758\tbest: 0.9940758 (2200)\ttotal: 7m 52s\tremaining: 6m 26s\n",
            "2225:\tlearn: 0.9941112\ttest: 0.9940788\tbest: 0.9940788 (2225)\ttotal: 7m 58s\tremaining: 6m 21s\n",
            "2250:\tlearn: 0.9941165\ttest: 0.9940830\tbest: 0.9940830 (2250)\ttotal: 8m 3s\tremaining: 6m 15s\n",
            "2275:\tlearn: 0.9941221\ttest: 0.9940879\tbest: 0.9940879 (2275)\ttotal: 8m 8s\tremaining: 6m 10s\n",
            "2300:\tlearn: 0.9941270\ttest: 0.9940914\tbest: 0.9940914 (2300)\ttotal: 8m 14s\tremaining: 6m 5s\n",
            "2325:\tlearn: 0.9941314\ttest: 0.9940950\tbest: 0.9940950 (2325)\ttotal: 8m 19s\tremaining: 5m 59s\n",
            "2350:\tlearn: 0.9941375\ttest: 0.9940996\tbest: 0.9940996 (2350)\ttotal: 8m 25s\tremaining: 5m 54s\n",
            "2375:\tlearn: 0.9941411\ttest: 0.9941016\tbest: 0.9941016 (2374)\ttotal: 8m 30s\tremaining: 5m 48s\n",
            "2400:\tlearn: 0.9941471\ttest: 0.9941059\tbest: 0.9941059 (2400)\ttotal: 8m 35s\tremaining: 5m 43s\n",
            "2425:\tlearn: 0.9941530\ttest: 0.9941108\tbest: 0.9941108 (2425)\ttotal: 8m 41s\tremaining: 5m 38s\n",
            "2450:\tlearn: 0.9941585\ttest: 0.9941150\tbest: 0.9941150 (2449)\ttotal: 8m 46s\tremaining: 5m 32s\n",
            "2475:\tlearn: 0.9941642\ttest: 0.9941198\tbest: 0.9941198 (2474)\ttotal: 8m 52s\tremaining: 5m 27s\n",
            "2500:\tlearn: 0.9941686\ttest: 0.9941223\tbest: 0.9941223 (2499)\ttotal: 8m 57s\tremaining: 5m 22s\n",
            "2525:\tlearn: 0.9941742\ttest: 0.9941263\tbest: 0.9941263 (2525)\ttotal: 9m 2s\tremaining: 5m 16s\n",
            "2550:\tlearn: 0.9941804\ttest: 0.9941314\tbest: 0.9941314 (2550)\ttotal: 9m 8s\tremaining: 5m 11s\n",
            "2575:\tlearn: 0.9941856\ttest: 0.9941357\tbest: 0.9941357 (2575)\ttotal: 9m 13s\tremaining: 5m 5s\n",
            "2600:\tlearn: 0.9941905\ttest: 0.9941394\tbest: 0.9941394 (2600)\ttotal: 9m 18s\tremaining: 5m\n",
            "2625:\tlearn: 0.9941942\ttest: 0.9941421\tbest: 0.9941421 (2625)\ttotal: 9m 24s\tremaining: 4m 55s\n",
            "2650:\tlearn: 0.9941990\ttest: 0.9941458\tbest: 0.9941458 (2650)\ttotal: 9m 29s\tremaining: 4m 49s\n",
            "2675:\tlearn: 0.9942036\ttest: 0.9941491\tbest: 0.9941491 (2675)\ttotal: 9m 34s\tremaining: 4m 44s\n",
            "2700:\tlearn: 0.9942080\ttest: 0.9941525\tbest: 0.9941525 (2700)\ttotal: 9m 40s\tremaining: 4m 39s\n",
            "2725:\tlearn: 0.9942127\ttest: 0.9941558\tbest: 0.9941558 (2725)\ttotal: 9m 45s\tremaining: 4m 33s\n",
            "2750:\tlearn: 0.9942173\ttest: 0.9941593\tbest: 0.9941593 (2750)\ttotal: 9m 51s\tremaining: 4m 28s\n",
            "2775:\tlearn: 0.9942220\ttest: 0.9941631\tbest: 0.9941631 (2774)\ttotal: 9m 56s\tremaining: 4m 22s\n",
            "2800:\tlearn: 0.9942271\ttest: 0.9941674\tbest: 0.9941674 (2800)\ttotal: 10m 1s\tremaining: 4m 17s\n",
            "2825:\tlearn: 0.9942294\ttest: 0.9941692\tbest: 0.9941692 (2825)\ttotal: 10m 7s\tremaining: 4m 12s\n",
            "2850:\tlearn: 0.9942344\ttest: 0.9941733\tbest: 0.9941733 (2850)\ttotal: 10m 12s\tremaining: 4m 6s\n",
            "2875:\tlearn: 0.9942401\ttest: 0.9941781\tbest: 0.9941781 (2875)\ttotal: 10m 17s\tremaining: 4m 1s\n",
            "2900:\tlearn: 0.9942437\ttest: 0.9941808\tbest: 0.9941808 (2900)\ttotal: 10m 23s\tremaining: 3m 56s\n",
            "2925:\tlearn: 0.9942479\ttest: 0.9941843\tbest: 0.9941843 (2925)\ttotal: 10m 28s\tremaining: 3m 50s\n",
            "2950:\tlearn: 0.9942524\ttest: 0.9941873\tbest: 0.9941873 (2950)\ttotal: 10m 34s\tremaining: 3m 45s\n",
            "2975:\tlearn: 0.9942566\ttest: 0.9941911\tbest: 0.9941911 (2975)\ttotal: 10m 39s\tremaining: 3m 40s\n",
            "3000:\tlearn: 0.9942599\ttest: 0.9941941\tbest: 0.9941941 (2999)\ttotal: 10m 44s\tremaining: 3m 34s\n",
            "3025:\tlearn: 0.9942637\ttest: 0.9941972\tbest: 0.9941972 (3024)\ttotal: 10m 50s\tremaining: 3m 29s\n",
            "3050:\tlearn: 0.9942687\ttest: 0.9942008\tbest: 0.9942009 (3049)\ttotal: 10m 55s\tremaining: 3m 23s\n",
            "3075:\tlearn: 0.9942736\ttest: 0.9942046\tbest: 0.9942046 (3075)\ttotal: 11m\tremaining: 3m 18s\n",
            "3100:\tlearn: 0.9942771\ttest: 0.9942071\tbest: 0.9942071 (3098)\ttotal: 11m 6s\tremaining: 3m 13s\n",
            "3125:\tlearn: 0.9942803\ttest: 0.9942096\tbest: 0.9942096 (3124)\ttotal: 11m 11s\tremaining: 3m 7s\n",
            "3150:\tlearn: 0.9942834\ttest: 0.9942114\tbest: 0.9942114 (3150)\ttotal: 11m 16s\tremaining: 3m 2s\n",
            "3175:\tlearn: 0.9942862\ttest: 0.9942132\tbest: 0.9942132 (3174)\ttotal: 11m 22s\tremaining: 2m 57s\n",
            "3200:\tlearn: 0.9942900\ttest: 0.9942154\tbest: 0.9942154 (3200)\ttotal: 11m 27s\tremaining: 2m 51s\n",
            "3225:\tlearn: 0.9942932\ttest: 0.9942176\tbest: 0.9942176 (3224)\ttotal: 11m 33s\tremaining: 2m 46s\n",
            "3250:\tlearn: 0.9942964\ttest: 0.9942197\tbest: 0.9942197 (3247)\ttotal: 11m 38s\tremaining: 2m 40s\n",
            "3275:\tlearn: 0.9943009\ttest: 0.9942232\tbest: 0.9942232 (3275)\ttotal: 11m 43s\tremaining: 2m 35s\n",
            "3300:\tlearn: 0.9943046\ttest: 0.9942259\tbest: 0.9942259 (3300)\ttotal: 11m 49s\tremaining: 2m 30s\n",
            "3325:\tlearn: 0.9943084\ttest: 0.9942293\tbest: 0.9942293 (3325)\ttotal: 11m 54s\tremaining: 2m 24s\n",
            "3350:\tlearn: 0.9943115\ttest: 0.9942313\tbest: 0.9942313 (3348)\ttotal: 11m 59s\tremaining: 2m 19s\n",
            "3375:\tlearn: 0.9943147\ttest: 0.9942342\tbest: 0.9942342 (3375)\ttotal: 12m 5s\tremaining: 2m 14s\n",
            "3400:\tlearn: 0.9943195\ttest: 0.9942379\tbest: 0.9942379 (3399)\ttotal: 12m 10s\tremaining: 2m 8s\n",
            "3425:\tlearn: 0.9943231\ttest: 0.9942402\tbest: 0.9942402 (3419)\ttotal: 12m 16s\tremaining: 2m 3s\n",
            "3450:\tlearn: 0.9943274\ttest: 0.9942430\tbest: 0.9942430 (3447)\ttotal: 12m 21s\tremaining: 1m 57s\n",
            "3475:\tlearn: 0.9943306\ttest: 0.9942458\tbest: 0.9942458 (3474)\ttotal: 12m 26s\tremaining: 1m 52s\n",
            "3500:\tlearn: 0.9943346\ttest: 0.9942485\tbest: 0.9942485 (3498)\ttotal: 12m 32s\tremaining: 1m 47s\n",
            "3525:\tlearn: 0.9943393\ttest: 0.9942527\tbest: 0.9942527 (3525)\ttotal: 12m 37s\tremaining: 1m 41s\n",
            "3550:\tlearn: 0.9943420\ttest: 0.9942542\tbest: 0.9942542 (3550)\ttotal: 12m 42s\tremaining: 1m 36s\n",
            "3575:\tlearn: 0.9943457\ttest: 0.9942575\tbest: 0.9942575 (3575)\ttotal: 12m 48s\tremaining: 1m 31s\n",
            "3600:\tlearn: 0.9943501\ttest: 0.9942610\tbest: 0.9942610 (3600)\ttotal: 12m 53s\tremaining: 1m 25s\n",
            "3625:\tlearn: 0.9943545\ttest: 0.9942645\tbest: 0.9942645 (3625)\ttotal: 12m 58s\tremaining: 1m 20s\n",
            "3650:\tlearn: 0.9943590\ttest: 0.9942680\tbest: 0.9942680 (3650)\ttotal: 13m 4s\tremaining: 1m 14s\n",
            "3675:\tlearn: 0.9943624\ttest: 0.9942700\tbest: 0.9942700 (3674)\ttotal: 13m 9s\tremaining: 1m 9s\n",
            "3700:\tlearn: 0.9943657\ttest: 0.9942728\tbest: 0.9942728 (3700)\ttotal: 13m 15s\tremaining: 1m 4s\n",
            "3725:\tlearn: 0.9943705\ttest: 0.9942773\tbest: 0.9942773 (3725)\ttotal: 13m 20s\tremaining: 58.9s\n",
            "3750:\tlearn: 0.9943734\ttest: 0.9942795\tbest: 0.9942795 (3750)\ttotal: 13m 25s\tremaining: 53.5s\n",
            "3775:\tlearn: 0.9943770\ttest: 0.9942820\tbest: 0.9942820 (3774)\ttotal: 13m 31s\tremaining: 48.1s\n",
            "3800:\tlearn: 0.9943812\ttest: 0.9942848\tbest: 0.9942848 (3800)\ttotal: 13m 36s\tremaining: 42.8s\n",
            "3825:\tlearn: 0.9943840\ttest: 0.9942869\tbest: 0.9942869 (3823)\ttotal: 13m 41s\tremaining: 37.4s\n",
            "3850:\tlearn: 0.9943886\ttest: 0.9942905\tbest: 0.9942905 (3848)\ttotal: 13m 47s\tremaining: 32s\n",
            "3875:\tlearn: 0.9943920\ttest: 0.9942924\tbest: 0.9942924 (3875)\ttotal: 13m 52s\tremaining: 26.6s\n",
            "3900:\tlearn: 0.9943961\ttest: 0.9942955\tbest: 0.9942955 (3898)\ttotal: 13m 58s\tremaining: 21.3s\n",
            "3925:\tlearn: 0.9943985\ttest: 0.9942971\tbest: 0.9942971 (3921)\ttotal: 14m 3s\tremaining: 15.9s\n",
            "3950:\tlearn: 0.9944016\ttest: 0.9942999\tbest: 0.9942999 (3949)\ttotal: 14m 8s\tremaining: 10.5s\n",
            "3975:\tlearn: 0.9944050\ttest: 0.9943026\tbest: 0.9943026 (3975)\ttotal: 14m 14s\tremaining: 5.16s\n",
            "3999:\tlearn: 0.9944080\ttest: 0.9943043\tbest: 0.9943043 (3999)\ttotal: 14m 19s\tremaining: 0us\n",
            "bestTest = 0.9943042994\n",
            "bestIteration = 3999\n"
          ],
          "name": "stdout"
        },
        {
          "output_type": "execute_result",
          "data": {
            "text/plain": [
              "<catboost.core.CatBoostClassifier at 0x7f7c557a2a10>"
            ]
          },
          "metadata": {
            "tags": []
          },
          "execution_count": 10
        }
      ]
    },
    {
      "cell_type": "code",
      "metadata": {
        "id": "Ty0Il2xpfCC6"
      },
      "source": [
        "# from sklearn.metrics import make_scorer, accuracy_score\r\n",
        "# from sklearn.model_selection import train_test_split, GridSearchCV\r\n",
        "\r\n",
        "# clf = CatBoostClassifier()\r\n",
        "\r\n",
        "# params = {'iterations': [2000],\r\n",
        "#           'depth': [6,8,10],\r\n",
        "#           'loss_function': ['Logloss', 'CrossEntropy'],\r\n",
        "#           'random_seed': [42],\r\n",
        "#           'max_ctr_complexity':[1],\r\n",
        "#           'od_type':['Iter'],\r\n",
        "#           'od_wait':[25],\r\n",
        "#           'verbose':[25],\r\n",
        "#           'task_type':[\"GPU\"]\r\n",
        "#          }\r\n",
        "\r\n",
        "# scorer = make_scorer(accuracy_score)\r\n",
        "# clf_grid = GridSearchCV(estimator=clf, param_grid=params, scoring=scorer, cv=5)\r\n",
        "\r\n",
        "# clf_grid.fit(X_train, y_train,  cat_features=cat_features, eval_set=(X_val, y_val))\r\n",
        "# best_param = clf_grid.best_params_\r\n",
        "# best_param"
      ],
      "execution_count": 11,
      "outputs": []
    },
    {
      "cell_type": "code",
      "metadata": {
        "id": "-SqOsRGCKUX2"
      },
      "source": [
        "#save_model(cat_model, 'cat-model.saved')\n",
        "pickle.dump(cat_model, open('cat-model.saved', 'wb'))"
      ],
      "execution_count": 12,
      "outputs": []
    },
    {
      "cell_type": "code",
      "metadata": {
        "id": "hCbIDt1bKUX3"
      },
      "source": [
        "#loaded_cat_model = load_model('cat-model.saved')\n",
        "loaded_cat_model = pickle.load(open('cat-model.saved', 'rb'))\n",
        "#test_pred = loaded_cat_model.predict(X_test)"
      ],
      "execution_count": 13,
      "outputs": []
    },
    {
      "cell_type": "code",
      "metadata": {
        "id": "wptuE6qLKUX4"
      },
      "source": [
        "eval_model(loaded_cat_model, X_test, y_test)"
      ],
      "execution_count": null,
      "outputs": []
    },
    {
      "cell_type": "code",
      "metadata": {
        "id": "lpTgA2DcKUX5"
      },
      "source": [
        "#importances = loaded_cat_model.feature_importances_\n",
        "importances = loaded_cat_model.get_feature_importance(type= \"FeatureImportance\")\n",
        "importances"
      ],
      "execution_count": null,
      "outputs": []
    },
    {
      "cell_type": "code",
      "metadata": {
        "id": "H2ik0dWDKUX6"
      },
      "source": [
        "# from multiprocessing import Pool\n",
        "# import shap\n",
        "# shap_values = loaded_cat_model.get_feature_importance(Pool(X_test, label=y_test,cat_features=cat_features), type=\"ShapValues\")\n",
        "# explainer = shap.Explainer(loaded_cat_model)\n",
        "# shap_values = explainer(X_test)\n",
        "\n",
        "# # visualize the first prediction's explanation\n",
        "# shap.plots.waterfall(shap_values[0])"
      ],
      "execution_count": null,
      "outputs": []
    },
    {
      "cell_type": "code",
      "metadata": {
        "id": "-bx7US6AKUX7"
      },
      "source": [
        "feature_names = [\n",
        "        \"province_code\",\n",
        "        \"district_code\",\n",
        "        \"date_diff\",\n",
        "        \"viettel_bank_code\",\n",
        "        \"channel_type_id\",\n",
        "        \"channel_code\",\n",
        "        \"staff_code\",\n",
        "        \"trans_amount\",\n",
        "        \"trans_fee\",\n",
        "        \"trans_type\",\n",
        "        \"process_code\",\n",
        "        \"channel_fee\",\n",
        "        \"shop_code\",\n",
        "        \"customer_fee\",\n",
        "        \"fee_partner\",\n",
        "        \"same_name\",\n",
        "        \"same_phone\",\n",
        "        \"same_phone_channel\",\n",
        "        \"same_phone_channel_ben\"\n",
        "    ]\n",
        "df_feature_importance = pd.DataFrame(loaded_cat_model.feature_importances_, index=feature_names, columns=['feature importance']).sort_values('feature importance', ascending=False)\n",
        "df_feature_importance"
      ],
      "execution_count": null,
      "outputs": []
    },
    {
      "cell_type": "code",
      "metadata": {
        "id": "xEWcMBT8KUX9"
      },
      "source": [
        "df_feature_importance.plot(kind='bar');"
      ],
      "execution_count": null,
      "outputs": []
    },
    {
      "cell_type": "code",
      "metadata": {
        "id": "w1ucxofJKUX9"
      },
      "source": [
        "def plot_feature_importance(model, features):\n",
        "    feature_importances = pd.DataFrame(sorted(zip(model.feature_importances_, features)), columns=['Value', 'Feature'])\n",
        "    plt.figure(figsize=(20,10))\n",
        "    sns.barplot(x=\"Value\", y=\"Feature\", data=feature_importances.sort_values(by=\"Value\", ascending=False).iloc[:50])\n",
        "    plt.title(\"Feature Importance\")\n",
        "    plt.tight_layout()\n",
        "    plt.show()"
      ],
      "execution_count": null,
      "outputs": []
    },
    {
      "cell_type": "code",
      "metadata": {
        "id": "CV_ZL-uZKUX-"
      },
      "source": [
        "plot_feature_importance(loaded_cat_model, feature_names)"
      ],
      "execution_count": null,
      "outputs": []
    },
    {
      "cell_type": "code",
      "metadata": {
        "id": "g2YepqWqKUX_"
      },
      "source": [
        ""
      ],
      "execution_count": null,
      "outputs": []
    }
  ]
}