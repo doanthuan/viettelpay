{
  "nbformat": 4,
  "nbformat_minor": 0,
  "metadata": {
    "kernelspec": {
      "display_name": "Python 3",
      "language": "python",
      "name": "python3"
    },
    "language_info": {
      "codemirror_mode": {
        "name": "ipython",
        "version": 3
      },
      "file_extension": ".py",
      "mimetype": "text/x-python",
      "name": "python",
      "nbconvert_exporter": "python",
      "pygments_lexer": "ipython3",
      "version": "3.8.0"
    },
    "colab": {
      "name": "thuan-catboost-colab.ipynb",
      "provenance": []
    }
  },
  "cells": [
    {
      "cell_type": "code",
      "metadata": {
        "id": "tdYiSgF_KUXg"
      },
      "source": [
        "import numpy as np\n",
        "import seaborn as sns \n",
        "import matplotlib.pyplot as plt\n",
        "import pandas as pd\n",
        "from sklearn.model_selection import train_test_split\n",
        "from sklearn.metrics import classification_report, confusion_matrix, roc_auc_score, precision_score, recall_score, f1_score\n",
        "import pickle\n",
        "from catboost import CatBoostClassifier\n"
      ],
      "execution_count": null,
      "outputs": []
    },
    {
      "cell_type": "code",
      "metadata": {
        "id": "UxDLQcVPKUXu"
      },
      "source": [
        "train_df = pd.read_csv(\"data/data-3m.csv\")\n",
        "test_df = pd.read_csv(\"data/data-202008.csv\")"
      ],
      "execution_count": null,
      "outputs": []
    },
    {
      "cell_type": "code",
      "metadata": {
        "id": "KBIiHDh2KUXv",
        "outputId": "0d94b5d8-6167-416a-980a-419ceeba5409"
      },
      "source": [
        "train_df.head()"
      ],
      "execution_count": null,
      "outputs": [
        {
          "output_type": "execute_result",
          "data": {
            "text/html": [
              "<div>\n",
              "<style scoped>\n",
              "    .dataframe tbody tr th:only-of-type {\n",
              "        vertical-align: middle;\n",
              "    }\n",
              "\n",
              "    .dataframe tbody tr th {\n",
              "        vertical-align: top;\n",
              "    }\n",
              "\n",
              "    .dataframe thead th {\n",
              "        text-align: right;\n",
              "    }\n",
              "</style>\n",
              "<table border=\"1\" class=\"dataframe\">\n",
              "  <thead>\n",
              "    <tr style=\"text-align: right;\">\n",
              "      <th></th>\n",
              "      <th>province_code</th>\n",
              "      <th>district_code</th>\n",
              "      <th>status_name</th>\n",
              "      <th>cust_name</th>\n",
              "      <th>msisdn</th>\n",
              "      <th>ben_cust_name</th>\n",
              "      <th>ben_msisdn</th>\n",
              "      <th>request_date</th>\n",
              "      <th>viettel_bank_code</th>\n",
              "      <th>channel_type_id</th>\n",
              "      <th>...</th>\n",
              "      <th>trans_amount</th>\n",
              "      <th>trans_fee</th>\n",
              "      <th>trans_type</th>\n",
              "      <th>process_code</th>\n",
              "      <th>channel_fee</th>\n",
              "      <th>shop_code</th>\n",
              "      <th>transfer_type</th>\n",
              "      <th>customer_fee</th>\n",
              "      <th>fee_partner</th>\n",
              "      <th>is_fraud</th>\n",
              "    </tr>\n",
              "  </thead>\n",
              "  <tbody>\n",
              "    <tr>\n",
              "      <th>0</th>\n",
              "      <td>H031</td>\n",
              "      <td>H031007</td>\n",
              "      <td>NaN</td>\n",
              "      <td>NaN</td>\n",
              "      <td>000186ca85dea743c31b</td>\n",
              "      <td>NaN</td>\n",
              "      <td>NaN</td>\n",
              "      <td>2020-07-20T16:44:41.000+07:00</td>\n",
              "      <td>KPP</td>\n",
              "      <td>37.0</td>\n",
              "      <td>...</td>\n",
              "      <td>446151.0</td>\n",
              "      <td>909.0</td>\n",
              "      <td>3.0</td>\n",
              "      <td>W_KPP301</td>\n",
              "      <td>700.0</td>\n",
              "      <td>6100280135</td>\n",
              "      <td>NaN</td>\n",
              "      <td>0.0</td>\n",
              "      <td>1000.0</td>\n",
              "      <td>0</td>\n",
              "    </tr>\n",
              "    <tr>\n",
              "      <th>1</th>\n",
              "      <td>P210</td>\n",
              "      <td>P210009</td>\n",
              "      <td>Đã hoàn trả tiền vào TK BCCS</td>\n",
              "      <td>HA THI XUYEN</td>\n",
              "      <td>00018fc18afe4b9bffaa</td>\n",
              "      <td>HA NGOC LUYEN</td>\n",
              "      <td>00017da8a27b9b7974a4</td>\n",
              "      <td>2020-07-20T06:37:09.000+07:00</td>\n",
              "      <td>KPP</td>\n",
              "      <td>1.0</td>\n",
              "      <td>...</td>\n",
              "      <td>4000000.0</td>\n",
              "      <td>12273.0</td>\n",
              "      <td>4.0</td>\n",
              "      <td>KPP501</td>\n",
              "      <td>10800.0</td>\n",
              "      <td>1001344100_VTP</td>\n",
              "      <td>BCCS</td>\n",
              "      <td>27000.0</td>\n",
              "      <td>0.0</td>\n",
              "      <td>0</td>\n",
              "    </tr>\n",
              "    <tr>\n",
              "      <th>2</th>\n",
              "      <td>H019</td>\n",
              "      <td>H019001</td>\n",
              "      <td>NaN</td>\n",
              "      <td>Triệu Thị Hon</td>\n",
              "      <td>000135da6ed6e6692327</td>\n",
              "      <td>Triệu Thị Hon</td>\n",
              "      <td>000135da6ed6e6692327</td>\n",
              "      <td>2020-07-20T13:41:46.000+07:00</td>\n",
              "      <td>VTT</td>\n",
              "      <td>164.0</td>\n",
              "      <td>...</td>\n",
              "      <td>5000000.0</td>\n",
              "      <td>0.0</td>\n",
              "      <td>2.0</td>\n",
              "      <td>400100</td>\n",
              "      <td>7500.0</td>\n",
              "      <td>1800220009</td>\n",
              "      <td>NaN</td>\n",
              "      <td>0.0</td>\n",
              "      <td>0.0</td>\n",
              "      <td>0</td>\n",
              "    </tr>\n",
              "    <tr>\n",
              "      <th>3</th>\n",
              "      <td>H018</td>\n",
              "      <td>H018009</td>\n",
              "      <td>NaN</td>\n",
              "      <td>NaN</td>\n",
              "      <td>0001b6a32422e06151dd</td>\n",
              "      <td>NaN</td>\n",
              "      <td>NaN</td>\n",
              "      <td>2020-07-20T18:23:56.000+07:00</td>\n",
              "      <td>KPP</td>\n",
              "      <td>1.0</td>\n",
              "      <td>...</td>\n",
              "      <td>248677.0</td>\n",
              "      <td>909.0</td>\n",
              "      <td>3.0</td>\n",
              "      <td>KPP301</td>\n",
              "      <td>700.0</td>\n",
              "      <td>1001530100_VTP</td>\n",
              "      <td>NaN</td>\n",
              "      <td>0.0</td>\n",
              "      <td>1000.0</td>\n",
              "      <td>0</td>\n",
              "    </tr>\n",
              "    <tr>\n",
              "      <th>4</th>\n",
              "      <td>N350</td>\n",
              "      <td>N350003</td>\n",
              "      <td>NaN</td>\n",
              "      <td>NaN</td>\n",
              "      <td>000110bbafc5de415ba3</td>\n",
              "      <td>NaN</td>\n",
              "      <td>NaN</td>\n",
              "      <td>2020-07-20T20:16:01.000+07:00</td>\n",
              "      <td>KPP</td>\n",
              "      <td>1.0</td>\n",
              "      <td>...</td>\n",
              "      <td>461212.0</td>\n",
              "      <td>1000.0</td>\n",
              "      <td>3.0</td>\n",
              "      <td>KPP301</td>\n",
              "      <td>770.0</td>\n",
              "      <td>1001240100_VTP</td>\n",
              "      <td>NaN</td>\n",
              "      <td>0.0</td>\n",
              "      <td>1100.0</td>\n",
              "      <td>0</td>\n",
              "    </tr>\n",
              "  </tbody>\n",
              "</table>\n",
              "<p>5 rows × 23 columns</p>\n",
              "</div>"
            ],
            "text/plain": [
              "  province_code district_code                   status_name      cust_name  \\\n",
              "0          H031       H031007                           NaN            NaN   \n",
              "1          P210       P210009  Đã hoàn trả tiền vào TK BCCS   HA THI XUYEN   \n",
              "2          H019       H019001                           NaN  Triệu Thị Hon   \n",
              "3          H018       H018009                           NaN            NaN   \n",
              "4          N350       N350003                           NaN            NaN   \n",
              "\n",
              "                 msisdn  ben_cust_name            ben_msisdn  \\\n",
              "0  000186ca85dea743c31b            NaN                   NaN   \n",
              "1  00018fc18afe4b9bffaa  HA NGOC LUYEN  00017da8a27b9b7974a4   \n",
              "2  000135da6ed6e6692327  Triệu Thị Hon  000135da6ed6e6692327   \n",
              "3  0001b6a32422e06151dd            NaN                   NaN   \n",
              "4  000110bbafc5de415ba3            NaN                   NaN   \n",
              "\n",
              "                    request_date viettel_bank_code  channel_type_id  ...  \\\n",
              "0  2020-07-20T16:44:41.000+07:00               KPP             37.0  ...   \n",
              "1  2020-07-20T06:37:09.000+07:00               KPP              1.0  ...   \n",
              "2  2020-07-20T13:41:46.000+07:00               VTT            164.0  ...   \n",
              "3  2020-07-20T18:23:56.000+07:00               KPP              1.0  ...   \n",
              "4  2020-07-20T20:16:01.000+07:00               KPP              1.0  ...   \n",
              "\n",
              "  trans_amount trans_fee trans_type  process_code  channel_fee  \\\n",
              "0     446151.0     909.0        3.0      W_KPP301        700.0   \n",
              "1    4000000.0   12273.0        4.0        KPP501      10800.0   \n",
              "2    5000000.0       0.0        2.0        400100       7500.0   \n",
              "3     248677.0     909.0        3.0        KPP301        700.0   \n",
              "4     461212.0    1000.0        3.0        KPP301        770.0   \n",
              "\n",
              "        shop_code transfer_type  customer_fee fee_partner is_fraud  \n",
              "0      6100280135           NaN           0.0      1000.0        0  \n",
              "1  1001344100_VTP          BCCS       27000.0         0.0        0  \n",
              "2      1800220009           NaN           0.0         0.0        0  \n",
              "3  1001530100_VTP           NaN           0.0      1000.0        0  \n",
              "4  1001240100_VTP           NaN           0.0      1100.0        0  \n",
              "\n",
              "[5 rows x 23 columns]"
            ]
          },
          "metadata": {
            "tags": []
          },
          "execution_count": 3
        }
      ]
    },
    {
      "cell_type": "code",
      "metadata": {
        "id": "lZw5nSkEKUXy"
      },
      "source": [
        "from util import *"
      ],
      "execution_count": null,
      "outputs": []
    },
    {
      "cell_type": "code",
      "metadata": {
        "id": "qGOTySeDKUXy",
        "outputId": "31a99470-a884-47a9-fb5b-2dbefe522f41"
      },
      "source": [
        "cat_features = [\"province_code\", \"district_code\",\"viettel_bank_code\",\"channel_code\"\n",
        "                ,\"staff_code\",\"process_code\",\"shop_code\"]\n",
        "\n",
        "train_df = preprocess_data(train_df, cat_features)\n",
        "test_df = preprocess_data(test_df, cat_features)"
      ],
      "execution_count": null,
      "outputs": [
        {
          "output_type": "stream",
          "text": [
            "c:\\users\\admin\\appdata\\local\\programs\\python\\python38\\lib\\site-packages\\pandas\\core\\frame.py:3191: SettingWithCopyWarning: \n",
            "A value is trying to be set on a copy of a slice from a DataFrame.\n",
            "Try using .loc[row_indexer,col_indexer] = value instead\n",
            "\n",
            "See the caveats in the documentation: https://pandas.pydata.org/pandas-docs/stable/user_guide/indexing.html#returning-a-view-versus-a-copy\n",
            "  self[k1] = value[k2]\n"
          ],
          "name": "stderr"
        }
      ]
    },
    {
      "cell_type": "code",
      "metadata": {
        "id": "Wmw6EowQKUX0"
      },
      "source": [
        ""
      ],
      "execution_count": null,
      "outputs": []
    },
    {
      "cell_type": "code",
      "metadata": {
        "id": "3Bx3_C9cKUX0"
      },
      "source": [
        "y_train = train_df['is_fraud']\n",
        "X_train = train_df.drop(['is_fraud'], axis = 1)\n",
        "y_test = test_df['is_fraud']\n",
        "X_test = test_df.drop(['is_fraud'], axis = 1)\n",
        "    \n",
        "X_train, X_val, y_train, y_val = train_test_split( X_train, y_train, test_size=0.2, random_state=42)"
      ],
      "execution_count": null,
      "outputs": []
    },
    {
      "cell_type": "code",
      "metadata": {
        "id": "3K9lXM7dKUX1",
        "outputId": "9300fc65-bdb1-48c5-f6d7-2e167b824720"
      },
      "source": [
        "cat_model = CatBoostClassifier(\n",
        "    iterations=2000,\n",
        "    max_ctr_complexity=1,\n",
        "    random_seed=0,\n",
        "    od_type='Iter',\n",
        "    od_wait=25,\n",
        "    verbose=25,\n",
        "    depth=6,\n",
        "    task_type=\"GPU\",\n",
        "    loss_function=\"Logloss\",\n",
        "    eval_metric=\"AUC\"\n",
        ")\n",
        "\n",
        "cat_model.fit(\n",
        "    X_train, y_train,\n",
        "    cat_features=cat_features,\n",
        "    eval_set=(X_val, y_val)\n",
        ")"
      ],
      "execution_count": null,
      "outputs": [
        {
          "output_type": "stream",
          "text": [
            "Learning rate set to 0.02343\n",
            "0:\tlearn: 0.8460836\ttest: 0.8424678\tbest: 0.8424678 (0)\ttotal: 412ms\tremaining: 13m 43s\n",
            "25:\tlearn: 0.9891628\ttest: 0.9895220\tbest: 0.9895220 (25)\ttotal: 11.9s\tremaining: 15m 7s\n",
            "50:\tlearn: 0.9906257\ttest: 0.9909371\tbest: 0.9909371 (50)\ttotal: 23.8s\tremaining: 15m 9s\n",
            "75:\tlearn: 0.9911477\ttest: 0.9914065\tbest: 0.9914117 (74)\ttotal: 35.6s\tremaining: 15m\n",
            "100:\tlearn: 0.9915082\ttest: 0.9917454\tbest: 0.9917454 (100)\ttotal: 47.3s\tremaining: 14m 49s\n",
            "125:\tlearn: 0.9918133\ttest: 0.9920155\tbest: 0.9920155 (125)\ttotal: 59s\tremaining: 14m 37s\n",
            "150:\tlearn: 0.9921620\ttest: 0.9923393\tbest: 0.9923393 (150)\ttotal: 1m 10s\tremaining: 14m 25s\n",
            "175:\tlearn: 0.9923910\ttest: 0.9925806\tbest: 0.9925806 (175)\ttotal: 1m 22s\tremaining: 14m 15s\n",
            "200:\tlearn: 0.9925255\ttest: 0.9927103\tbest: 0.9927103 (200)\ttotal: 1m 34s\tremaining: 14m 4s\n",
            "225:\tlearn: 0.9926506\ttest: 0.9928369\tbest: 0.9928369 (225)\ttotal: 1m 46s\tremaining: 13m 53s\n",
            "250:\tlearn: 0.9927958\ttest: 0.9929687\tbest: 0.9929687 (250)\ttotal: 1m 58s\tremaining: 13m 45s\n",
            "275:\tlearn: 0.9929678\ttest: 0.9931245\tbest: 0.9931245 (275)\ttotal: 2m 11s\tremaining: 13m 41s\n",
            "300:\tlearn: 0.9931221\ttest: 0.9932645\tbest: 0.9932645 (300)\ttotal: 2m 24s\tremaining: 13m 34s\n",
            "325:\tlearn: 0.9932337\ttest: 0.9933636\tbest: 0.9933636 (325)\ttotal: 2m 37s\tremaining: 13m 26s\n",
            "350:\tlearn: 0.9933171\ttest: 0.9934360\tbest: 0.9934360 (350)\ttotal: 2m 50s\tremaining: 13m 19s\n",
            "375:\tlearn: 0.9933744\ttest: 0.9934819\tbest: 0.9934819 (375)\ttotal: 3m 3s\tremaining: 13m 12s\n",
            "400:\tlearn: 0.9934218\ttest: 0.9935192\tbest: 0.9935192 (400)\ttotal: 3m 16s\tremaining: 13m 3s\n",
            "425:\tlearn: 0.9934659\ttest: 0.9935586\tbest: 0.9935586 (425)\ttotal: 3m 29s\tremaining: 12m 54s\n",
            "450:\tlearn: 0.9935015\ttest: 0.9935903\tbest: 0.9935903 (450)\ttotal: 3m 42s\tremaining: 12m 45s\n",
            "475:\tlearn: 0.9935297\ttest: 0.9936148\tbest: 0.9936148 (475)\ttotal: 3m 55s\tremaining: 12m 34s\n",
            "500:\tlearn: 0.9935592\ttest: 0.9936402\tbest: 0.9936402 (500)\ttotal: 4m 8s\tremaining: 12m 24s\n",
            "525:\tlearn: 0.9935900\ttest: 0.9936664\tbest: 0.9936664 (525)\ttotal: 4m 21s\tremaining: 12m 13s\n",
            "550:\tlearn: 0.9936157\ttest: 0.9936885\tbest: 0.9936885 (550)\ttotal: 4m 34s\tremaining: 12m 2s\n",
            "575:\tlearn: 0.9936374\ttest: 0.9937081\tbest: 0.9937081 (575)\ttotal: 4m 47s\tremaining: 11m 51s\n",
            "600:\tlearn: 0.9936616\ttest: 0.9937288\tbest: 0.9937288 (600)\ttotal: 5m\tremaining: 11m 40s\n",
            "625:\tlearn: 0.9936804\ttest: 0.9937440\tbest: 0.9937440 (624)\ttotal: 5m 13s\tremaining: 11m 28s\n",
            "650:\tlearn: 0.9937060\ttest: 0.9937674\tbest: 0.9937674 (650)\ttotal: 5m 26s\tremaining: 11m 17s\n",
            "675:\tlearn: 0.9937314\ttest: 0.9937895\tbest: 0.9937895 (675)\ttotal: 5m 39s\tremaining: 11m 5s\n",
            "700:\tlearn: 0.9937551\ttest: 0.9938083\tbest: 0.9938083 (700)\ttotal: 5m 54s\tremaining: 10m 56s\n",
            "725:\tlearn: 0.9937740\ttest: 0.9938251\tbest: 0.9938251 (725)\ttotal: 6m 7s\tremaining: 10m 45s\n",
            "750:\tlearn: 0.9937930\ttest: 0.9938437\tbest: 0.9938437 (750)\ttotal: 6m 21s\tremaining: 10m 33s\n",
            "775:\tlearn: 0.9938072\ttest: 0.9938555\tbest: 0.9938555 (775)\ttotal: 6m 33s\tremaining: 10m 20s\n",
            "800:\tlearn: 0.9938264\ttest: 0.9938716\tbest: 0.9938716 (800)\ttotal: 6m 45s\tremaining: 10m 7s\n",
            "825:\tlearn: 0.9938406\ttest: 0.9938825\tbest: 0.9938826 (823)\ttotal: 6m 58s\tremaining: 9m 54s\n",
            "850:\tlearn: 0.9938555\ttest: 0.9938947\tbest: 0.9938947 (850)\ttotal: 7m 10s\tremaining: 9m 41s\n",
            "875:\tlearn: 0.9938710\ttest: 0.9939080\tbest: 0.9939080 (875)\ttotal: 7m 26s\tremaining: 9m 32s\n",
            "900:\tlearn: 0.9938877\ttest: 0.9939215\tbest: 0.9939215 (900)\ttotal: 7m 39s\tremaining: 9m 20s\n",
            "925:\tlearn: 0.9939013\ttest: 0.9939329\tbest: 0.9939329 (925)\ttotal: 7m 52s\tremaining: 9m 8s\n",
            "950:\tlearn: 0.9939141\ttest: 0.9939430\tbest: 0.9939430 (950)\ttotal: 8m 5s\tremaining: 8m 56s\n",
            "975:\tlearn: 0.9939288\ttest: 0.9939549\tbest: 0.9939549 (975)\ttotal: 8m 18s\tremaining: 8m 43s\n",
            "1000:\tlearn: 0.9939452\ttest: 0.9939685\tbest: 0.9939685 (1000)\ttotal: 8m 32s\tremaining: 8m 31s\n",
            "1025:\tlearn: 0.9939585\ttest: 0.9939799\tbest: 0.9939799 (1025)\ttotal: 8m 44s\tremaining: 8m 18s\n",
            "1050:\tlearn: 0.9939752\ttest: 0.9939932\tbest: 0.9939932 (1050)\ttotal: 8m 58s\tremaining: 8m 5s\n",
            "1075:\tlearn: 0.9939868\ttest: 0.9940016\tbest: 0.9940016 (1074)\ttotal: 9m 11s\tremaining: 7m 53s\n",
            "1100:\tlearn: 0.9939948\ttest: 0.9940079\tbest: 0.9940079 (1100)\ttotal: 9m 24s\tremaining: 7m 40s\n",
            "1125:\tlearn: 0.9940069\ttest: 0.9940171\tbest: 0.9940171 (1125)\ttotal: 9m 37s\tremaining: 7m 27s\n",
            "1150:\tlearn: 0.9940155\ttest: 0.9940234\tbest: 0.9940234 (1150)\ttotal: 9m 49s\tremaining: 7m 15s\n",
            "1175:\tlearn: 0.9940268\ttest: 0.9940326\tbest: 0.9940326 (1175)\ttotal: 10m 2s\tremaining: 7m 2s\n",
            "1200:\tlearn: 0.9940381\ttest: 0.9940422\tbest: 0.9940422 (1200)\ttotal: 10m 15s\tremaining: 6m 49s\n",
            "1225:\tlearn: 0.9940496\ttest: 0.9940520\tbest: 0.9940520 (1225)\ttotal: 10m 28s\tremaining: 6m 36s\n",
            "1250:\tlearn: 0.9940597\ttest: 0.9940597\tbest: 0.9940597 (1250)\ttotal: 10m 41s\tremaining: 6m 24s\n",
            "1275:\tlearn: 0.9940690\ttest: 0.9940664\tbest: 0.9940664 (1275)\ttotal: 10m 54s\tremaining: 6m 11s\n",
            "1300:\tlearn: 0.9940772\ttest: 0.9940722\tbest: 0.9940722 (1300)\ttotal: 11m 6s\tremaining: 5m 58s\n",
            "1325:\tlearn: 0.9940857\ttest: 0.9940779\tbest: 0.9940779 (1323)\ttotal: 11m 18s\tremaining: 5m 45s\n",
            "1350:\tlearn: 0.9940947\ttest: 0.9940849\tbest: 0.9940849 (1350)\ttotal: 11m 31s\tremaining: 5m 32s\n",
            "1375:\tlearn: 0.9941036\ttest: 0.9940921\tbest: 0.9940921 (1375)\ttotal: 11m 43s\tremaining: 5m 18s\n",
            "1400:\tlearn: 0.9941160\ttest: 0.9941011\tbest: 0.9941011 (1400)\ttotal: 11m 55s\tremaining: 5m 6s\n",
            "1425:\tlearn: 0.9941238\ttest: 0.9941064\tbest: 0.9941064 (1425)\ttotal: 12m 9s\tremaining: 4m 53s\n",
            "1450:\tlearn: 0.9941344\ttest: 0.9941136\tbest: 0.9941136 (1448)\ttotal: 12m 22s\tremaining: 4m 40s\n",
            "1475:\tlearn: 0.9941428\ttest: 0.9941210\tbest: 0.9941210 (1473)\ttotal: 12m 34s\tremaining: 4m 27s\n",
            "1500:\tlearn: 0.9941504\ttest: 0.9941271\tbest: 0.9941271 (1499)\ttotal: 12m 49s\tremaining: 4m 15s\n",
            "1525:\tlearn: 0.9941568\ttest: 0.9941320\tbest: 0.9941320 (1524)\ttotal: 13m 2s\tremaining: 4m 3s\n",
            "1550:\tlearn: 0.9941664\ttest: 0.9941395\tbest: 0.9941395 (1550)\ttotal: 13m 14s\tremaining: 3m 50s\n",
            "1575:\tlearn: 0.9941733\ttest: 0.9941447\tbest: 0.9941447 (1575)\ttotal: 13m 27s\tremaining: 3m 37s\n",
            "1600:\tlearn: 0.9941819\ttest: 0.9941509\tbest: 0.9941509 (1600)\ttotal: 13m 39s\tremaining: 3m 24s\n",
            "1625:\tlearn: 0.9941887\ttest: 0.9941559\tbest: 0.9941559 (1625)\ttotal: 13m 52s\tremaining: 3m 11s\n",
            "1650:\tlearn: 0.9941952\ttest: 0.9941608\tbest: 0.9941609 (1647)\ttotal: 14m 5s\tremaining: 2m 58s\n",
            "1675:\tlearn: 0.9942021\ttest: 0.9941657\tbest: 0.9941657 (1672)\ttotal: 14m 17s\tremaining: 2m 45s\n",
            "1700:\tlearn: 0.9942095\ttest: 0.9941716\tbest: 0.9941716 (1700)\ttotal: 14m 30s\tremaining: 2m 32s\n",
            "1725:\tlearn: 0.9942161\ttest: 0.9941754\tbest: 0.9941754 (1724)\ttotal: 14m 42s\tremaining: 2m 20s\n",
            "1750:\tlearn: 0.9942207\ttest: 0.9941793\tbest: 0.9941793 (1748)\ttotal: 14m 54s\tremaining: 2m 7s\n",
            "1775:\tlearn: 0.9942265\ttest: 0.9941831\tbest: 0.9941831 (1775)\ttotal: 15m 7s\tremaining: 1m 54s\n",
            "1800:\tlearn: 0.9942321\ttest: 0.9941875\tbest: 0.9941875 (1800)\ttotal: 15m 19s\tremaining: 1m 41s\n",
            "1825:\tlearn: 0.9942373\ttest: 0.9941919\tbest: 0.9941919 (1824)\ttotal: 15m 31s\tremaining: 1m 28s\n",
            "1850:\tlearn: 0.9942436\ttest: 0.9941968\tbest: 0.9941968 (1848)\ttotal: 15m 43s\tremaining: 1m 15s\n",
            "1875:\tlearn: 0.9942513\ttest: 0.9942023\tbest: 0.9942023 (1875)\ttotal: 15m 56s\tremaining: 1m 3s\n",
            "1900:\tlearn: 0.9942576\ttest: 0.9942071\tbest: 0.9942071 (1900)\ttotal: 16m 8s\tremaining: 50.4s\n",
            "1925:\tlearn: 0.9942639\ttest: 0.9942127\tbest: 0.9942127 (1925)\ttotal: 16m 21s\tremaining: 37.7s\n",
            "1950:\tlearn: 0.9942708\ttest: 0.9942173\tbest: 0.9942173 (1950)\ttotal: 16m 33s\tremaining: 25s\n",
            "1975:\tlearn: 0.9942760\ttest: 0.9942216\tbest: 0.9942216 (1975)\ttotal: 16m 45s\tremaining: 12.2s\n",
            "1999:\tlearn: 0.9942846\ttest: 0.9942283\tbest: 0.9942284 (1997)\ttotal: 16m 57s\tremaining: 0us\n",
            "bestTest = 0.994228363\n",
            "bestIteration = 1997\n",
            "Shrink model to first 1998 iterations.\n"
          ],
          "name": "stdout"
        },
        {
          "output_type": "execute_result",
          "data": {
            "text/plain": [
              "<catboost.core.CatBoostClassifier at 0x1f6ac1b0970>"
            ]
          },
          "metadata": {
            "tags": []
          },
          "execution_count": 30
        }
      ]
    },
    {
      "cell_type": "code",
      "metadata": {
        "id": "-SqOsRGCKUX2"
      },
      "source": [
        "#save_model(cat_model, 'cat-model.saved')\n",
        "pickle.dump(cat_model, open('cat-model.saved', 'wb'))"
      ],
      "execution_count": null,
      "outputs": []
    },
    {
      "cell_type": "code",
      "metadata": {
        "id": "hCbIDt1bKUX3"
      },
      "source": [
        "#loaded_cat_model = load_model('cat-model.saved')\n",
        "loaded_cat_model = pickle.load(open('cat-model.saved', 'rb'))\n",
        "#test_pred = loaded_cat_model.predict(X_test)"
      ],
      "execution_count": null,
      "outputs": []
    },
    {
      "cell_type": "code",
      "metadata": {
        "id": "wptuE6qLKUX4",
        "outputId": "a25ff3a3-fc33-4613-fce3-db1e4f872f51"
      },
      "source": [
        "eval_model(loaded_cat_model, X_test, y_test)"
      ],
      "execution_count": null,
      "outputs": [
        {
          "output_type": "stream",
          "text": [
            "classification_report: \n",
            "              precision    recall  f1-score   support\n",
            "\n",
            "           0       1.00      1.00      1.00   7166468\n",
            "           1       0.76      0.63      0.69     27038\n",
            "\n",
            "    accuracy                           1.00   7193506\n",
            "   macro avg       0.88      0.81      0.84   7193506\n",
            "weighted avg       1.00      1.00      1.00   7193506\n",
            "\n",
            "confusion_matrix: \n",
            "[[7161026    5442]\n",
            " [  10115   16923]]\n",
            "roc_auc_score: 0.812568757988345\n",
            "precision_score: 0.756673373574782\n",
            "recall_score: 0.6258968858643391\n",
            "f1_score: 0.685100095135923\n"
          ],
          "name": "stdout"
        }
      ]
    },
    {
      "cell_type": "code",
      "metadata": {
        "id": "lpTgA2DcKUX5",
        "outputId": "05194566-1519-4e7b-9f82-e2a2712357ab"
      },
      "source": [
        "#importances = loaded_cat_model.feature_importances_\n",
        "importances = loaded_cat_model.get_feature_importance(type= \"FeatureImportance\")\n",
        "importances"
      ],
      "execution_count": null,
      "outputs": [
        {
          "output_type": "execute_result",
          "data": {
            "text/plain": [
              "array([ 0.9234058 ,  1.07119506,  2.86915821,  7.15186222, 10.52368024,\n",
              "        3.63875304,  1.98491556,  4.50646128,  7.11466169,  1.81971254,\n",
              "       45.0173562 ,  3.22442763,  1.14815321,  4.15614943,  0.        ,\n",
              "        0.10456758,  2.35526052,  0.45217545,  1.93810435])"
            ]
          },
          "metadata": {
            "tags": []
          },
          "execution_count": 51
        }
      ]
    },
    {
      "cell_type": "code",
      "metadata": {
        "id": "H2ik0dWDKUX6",
        "outputId": "c35aab1f-8ab9-489f-b528-04c8c8d56587"
      },
      "source": [
        "# from multiprocessing import Pool\n",
        "# import shap\n",
        "# shap_values = loaded_cat_model.get_feature_importance(Pool(X_test, label=y_test,cat_features=cat_features), type=\"ShapValues\")\n",
        "# explainer = shap.Explainer(loaded_cat_model)\n",
        "# shap_values = explainer(X_test)\n",
        "\n",
        "# # visualize the first prediction's explanation\n",
        "# shap.plots.waterfall(shap_values[0])"
      ],
      "execution_count": null,
      "outputs": [
        {
          "output_type": "error",
          "ename": "KeyboardInterrupt",
          "evalue": "",
          "traceback": [
            "\u001b[1;31m---------------------------------------------------------------------------\u001b[0m",
            "\u001b[1;31mKeyboardInterrupt\u001b[0m                         Traceback (most recent call last)",
            "\u001b[1;32m<ipython-input-50-3aa8f74e755c>\u001b[0m in \u001b[0;36m<module>\u001b[1;34m\u001b[0m\n\u001b[0;32m      5\u001b[0m \u001b[1;33m\u001b[0m\u001b[0m\n\u001b[0;32m      6\u001b[0m \u001b[1;31m# visualize the first prediction's explanation\u001b[0m\u001b[1;33m\u001b[0m\u001b[1;33m\u001b[0m\u001b[1;33m\u001b[0m\u001b[0m\n\u001b[1;32m----> 7\u001b[1;33m \u001b[0mshap\u001b[0m\u001b[1;33m.\u001b[0m\u001b[0mplots\u001b[0m\u001b[1;33m.\u001b[0m\u001b[0mwaterfall\u001b[0m\u001b[1;33m(\u001b[0m\u001b[0mshap_values\u001b[0m\u001b[1;33m[\u001b[0m\u001b[1;36m0\u001b[0m\u001b[1;33m]\u001b[0m\u001b[1;33m)\u001b[0m\u001b[1;33m\u001b[0m\u001b[1;33m\u001b[0m\u001b[0m\n\u001b[0m",
            "\u001b[1;32mc:\\users\\admin\\appdata\\local\\programs\\python\\python38\\lib\\site-packages\\shap\\_explanation.py\u001b[0m in \u001b[0;36m__getitem__\u001b[1;34m(self, item)\u001b[0m\n\u001b[0;32m    315\u001b[0m \u001b[1;33m\u001b[0m\u001b[0m\n\u001b[0;32m    316\u001b[0m         \u001b[1;31m# call slicer for the real work\u001b[0m\u001b[1;33m\u001b[0m\u001b[1;33m\u001b[0m\u001b[1;33m\u001b[0m\u001b[0m\n\u001b[1;32m--> 317\u001b[1;33m         \u001b[0mnew_self\u001b[0m \u001b[1;33m=\u001b[0m \u001b[0mcopy\u001b[0m\u001b[1;33m.\u001b[0m\u001b[0mcopy\u001b[0m\u001b[1;33m(\u001b[0m\u001b[0mself\u001b[0m\u001b[1;33m)\u001b[0m\u001b[1;33m\u001b[0m\u001b[1;33m\u001b[0m\u001b[0m\n\u001b[0m\u001b[0;32m    318\u001b[0m         \u001b[0mnew_self\u001b[0m\u001b[1;33m.\u001b[0m\u001b[0m_s\u001b[0m \u001b[1;33m=\u001b[0m \u001b[0mself\u001b[0m\u001b[1;33m.\u001b[0m\u001b[0m_s\u001b[0m\u001b[1;33m.\u001b[0m\u001b[0m__getitem__\u001b[0m\u001b[1;33m(\u001b[0m\u001b[0mitem\u001b[0m\u001b[1;33m)\u001b[0m\u001b[1;33m\u001b[0m\u001b[1;33m\u001b[0m\u001b[0m\n\u001b[0;32m    319\u001b[0m         new_self.op_history.append({\n",
            "\u001b[1;32mc:\\users\\admin\\appdata\\local\\programs\\python\\python38\\lib\\copy.py\u001b[0m in \u001b[0;36mcopy\u001b[1;34m(x)\u001b[0m\n\u001b[0;32m     82\u001b[0m     \u001b[0mcopier\u001b[0m \u001b[1;33m=\u001b[0m \u001b[0mgetattr\u001b[0m\u001b[1;33m(\u001b[0m\u001b[0mcls\u001b[0m\u001b[1;33m,\u001b[0m \u001b[1;34m\"__copy__\"\u001b[0m\u001b[1;33m,\u001b[0m \u001b[1;32mNone\u001b[0m\u001b[1;33m)\u001b[0m\u001b[1;33m\u001b[0m\u001b[1;33m\u001b[0m\u001b[0m\n\u001b[0;32m     83\u001b[0m     \u001b[1;32mif\u001b[0m \u001b[0mcopier\u001b[0m \u001b[1;32mis\u001b[0m \u001b[1;32mnot\u001b[0m \u001b[1;32mNone\u001b[0m\u001b[1;33m:\u001b[0m\u001b[1;33m\u001b[0m\u001b[1;33m\u001b[0m\u001b[0m\n\u001b[1;32m---> 84\u001b[1;33m         \u001b[1;32mreturn\u001b[0m \u001b[0mcopier\u001b[0m\u001b[1;33m(\u001b[0m\u001b[0mx\u001b[0m\u001b[1;33m)\u001b[0m\u001b[1;33m\u001b[0m\u001b[1;33m\u001b[0m\u001b[0m\n\u001b[0m\u001b[0;32m     85\u001b[0m \u001b[1;33m\u001b[0m\u001b[0m\n\u001b[0;32m     86\u001b[0m     \u001b[0mreductor\u001b[0m \u001b[1;33m=\u001b[0m \u001b[0mdispatch_table\u001b[0m\u001b[1;33m.\u001b[0m\u001b[0mget\u001b[0m\u001b[1;33m(\u001b[0m\u001b[0mcls\u001b[0m\u001b[1;33m)\u001b[0m\u001b[1;33m\u001b[0m\u001b[1;33m\u001b[0m\u001b[0m\n",
            "\u001b[1;32mc:\\users\\admin\\appdata\\local\\programs\\python\\python38\\lib\\site-packages\\shap\\_explanation.py\u001b[0m in \u001b[0;36m__copy__\u001b[1;34m(self)\u001b[0m\n\u001b[0;32m    329\u001b[0m \u001b[1;33m\u001b[0m\u001b[0m\n\u001b[0;32m    330\u001b[0m     \u001b[1;32mdef\u001b[0m \u001b[0m__copy__\u001b[0m\u001b[1;33m(\u001b[0m\u001b[0mself\u001b[0m\u001b[1;33m)\u001b[0m\u001b[1;33m:\u001b[0m\u001b[1;33m\u001b[0m\u001b[1;33m\u001b[0m\u001b[0m\n\u001b[1;32m--> 331\u001b[1;33m         new_exp = Explanation(\n\u001b[0m\u001b[0;32m    332\u001b[0m             \u001b[0mself\u001b[0m\u001b[1;33m.\u001b[0m\u001b[0mvalues\u001b[0m\u001b[1;33m,\u001b[0m\u001b[1;33m\u001b[0m\u001b[1;33m\u001b[0m\u001b[0m\n\u001b[0;32m    333\u001b[0m             \u001b[0mself\u001b[0m\u001b[1;33m.\u001b[0m\u001b[0mbase_values\u001b[0m\u001b[1;33m,\u001b[0m\u001b[1;33m\u001b[0m\u001b[1;33m\u001b[0m\u001b[0m\n",
            "\u001b[1;32mc:\\users\\admin\\appdata\\local\\programs\\python\\python38\\lib\\site-packages\\shap\\_explanation.py\u001b[0m in \u001b[0;36m__init__\u001b[1;34m(self, values, base_values, data, display_data, instance_names, feature_names, output_names, output_indexes, lower_bounds, upper_bounds, main_effects, hierarchical_values, clustering)\u001b[0m\n\u001b[0;32m    117\u001b[0m                 \u001b[1;32mraise\u001b[0m \u001b[0mValueError\u001b[0m\u001b[1;33m(\u001b[0m\u001b[1;34m\"shap.Explanation does not yet support output_names of order greater than 3!\"\u001b[0m\u001b[1;33m)\u001b[0m\u001b[1;33m\u001b[0m\u001b[1;33m\u001b[0m\u001b[0m\n\u001b[0;32m    118\u001b[0m \u001b[1;33m\u001b[0m\u001b[0m\n\u001b[1;32m--> 119\u001b[1;33m         self._s = Slicer(\n\u001b[0m\u001b[0;32m    120\u001b[0m             \u001b[0mvalues\u001b[0m\u001b[1;33m=\u001b[0m\u001b[0mvalues\u001b[0m\u001b[1;33m,\u001b[0m\u001b[1;33m\u001b[0m\u001b[1;33m\u001b[0m\u001b[0m\n\u001b[0;32m    121\u001b[0m             \u001b[0mbase_values\u001b[0m\u001b[1;33m=\u001b[0m\u001b[1;32mNone\u001b[0m \u001b[1;32mif\u001b[0m \u001b[0mbase_values\u001b[0m \u001b[1;32mis\u001b[0m \u001b[1;32mNone\u001b[0m \u001b[1;32melse\u001b[0m \u001b[0mObj\u001b[0m\u001b[1;33m(\u001b[0m\u001b[0mbase_values\u001b[0m\u001b[1;33m,\u001b[0m \u001b[1;33m[\u001b[0m\u001b[1;36m0\u001b[0m\u001b[1;33m]\u001b[0m \u001b[1;33m+\u001b[0m \u001b[0mlist\u001b[0m\u001b[1;33m(\u001b[0m\u001b[0moutput_dims\u001b[0m\u001b[1;33m)\u001b[0m\u001b[1;33m)\u001b[0m\u001b[1;33m,\u001b[0m\u001b[1;33m\u001b[0m\u001b[1;33m\u001b[0m\u001b[0m\n",
            "\u001b[1;32mc:\\users\\admin\\appdata\\local\\programs\\python\\python38\\lib\\site-packages\\slicer\\slicer.py\u001b[0m in \u001b[0;36m__init__\u001b[1;34m(self, *args, **kwargs)\u001b[0m\n\u001b[0;32m     53\u001b[0m \u001b[1;33m\u001b[0m\u001b[0m\n\u001b[0;32m     54\u001b[0m         \"\"\"\n\u001b[1;32m---> 55\u001b[1;33m         \u001b[0mself\u001b[0m\u001b[1;33m.\u001b[0m\u001b[0m__class__\u001b[0m\u001b[1;33m.\u001b[0m\u001b[0m_init_slicer\u001b[0m\u001b[1;33m(\u001b[0m\u001b[0mself\u001b[0m\u001b[1;33m,\u001b[0m \u001b[1;33m*\u001b[0m\u001b[0margs\u001b[0m\u001b[1;33m,\u001b[0m \u001b[1;33m**\u001b[0m\u001b[0mkwargs\u001b[0m\u001b[1;33m)\u001b[0m\u001b[1;33m\u001b[0m\u001b[1;33m\u001b[0m\u001b[0m\n\u001b[0m\u001b[0;32m     56\u001b[0m \u001b[1;33m\u001b[0m\u001b[0m\n\u001b[0;32m     57\u001b[0m     \u001b[1;33m@\u001b[0m\u001b[0mclassmethod\u001b[0m\u001b[1;33m\u001b[0m\u001b[1;33m\u001b[0m\u001b[0m\n",
            "\u001b[1;32mc:\\users\\admin\\appdata\\local\\programs\\python\\python38\\lib\\site-packages\\slicer\\slicer.py\u001b[0m in \u001b[0;36m_init_slicer\u001b[1;34m(cls, slicer_instance, *args, **kwargs)\u001b[0m\n\u001b[0;32m     85\u001b[0m         \u001b[1;31m# Go through named objects / aliases\u001b[0m\u001b[1;33m\u001b[0m\u001b[1;33m\u001b[0m\u001b[1;33m\u001b[0m\u001b[0m\n\u001b[0;32m     86\u001b[0m         \u001b[1;32mfor\u001b[0m \u001b[0mkey\u001b[0m\u001b[1;33m,\u001b[0m \u001b[0mvalue\u001b[0m \u001b[1;32min\u001b[0m \u001b[0mkwargs\u001b[0m\u001b[1;33m.\u001b[0m\u001b[0mitems\u001b[0m\u001b[1;33m(\u001b[0m\u001b[1;33m)\u001b[0m\u001b[1;33m:\u001b[0m\u001b[1;33m\u001b[0m\u001b[1;33m\u001b[0m\u001b[0m\n\u001b[1;32m---> 87\u001b[1;33m             \u001b[0mslicer_instance\u001b[0m\u001b[1;33m.\u001b[0m\u001b[0m__setattr__\u001b[0m\u001b[1;33m(\u001b[0m\u001b[0mkey\u001b[0m\u001b[1;33m,\u001b[0m \u001b[0mvalue\u001b[0m\u001b[1;33m)\u001b[0m\u001b[1;33m\u001b[0m\u001b[1;33m\u001b[0m\u001b[0m\n\u001b[0m\u001b[0;32m     88\u001b[0m \u001b[1;33m\u001b[0m\u001b[0m\n\u001b[0;32m     89\u001b[0m         \u001b[1;31m# Generate default aliases only if one object and no aliases exist\u001b[0m\u001b[1;33m\u001b[0m\u001b[1;33m\u001b[0m\u001b[1;33m\u001b[0m\u001b[0m\n",
            "\u001b[1;32mc:\\users\\admin\\appdata\\local\\programs\\python\\python38\\lib\\site-packages\\slicer\\slicer.py\u001b[0m in \u001b[0;36m__setattr__\u001b[1;34m(self, key, value)\u001b[0m\n\u001b[0;32m    196\u001b[0m                     \u001b[1;32mdel\u001b[0m \u001b[0mself\u001b[0m\u001b[1;33m.\u001b[0m\u001b[0m_aliases\u001b[0m\u001b[1;33m[\u001b[0m\u001b[0mkey\u001b[0m\u001b[1;33m]\u001b[0m\u001b[1;33m\u001b[0m\u001b[1;33m\u001b[0m\u001b[0m\n\u001b[0;32m    197\u001b[0m \u001b[1;33m\u001b[0m\u001b[0m\n\u001b[1;32m--> 198\u001b[1;33m                 \u001b[0mvalue\u001b[0m \u001b[1;33m=\u001b[0m \u001b[0mObj\u001b[0m\u001b[1;33m(\u001b[0m\u001b[0mvalue\u001b[0m\u001b[1;33m)\u001b[0m \u001b[1;32mif\u001b[0m \u001b[1;32mnot\u001b[0m \u001b[0misinstance\u001b[0m\u001b[1;33m(\u001b[0m\u001b[0mvalue\u001b[0m\u001b[1;33m,\u001b[0m \u001b[0mObj\u001b[0m\u001b[1;33m)\u001b[0m \u001b[1;32melse\u001b[0m \u001b[0mvalue\u001b[0m\u001b[1;33m\u001b[0m\u001b[1;33m\u001b[0m\u001b[0m\n\u001b[0m\u001b[0;32m    199\u001b[0m                 \u001b[0mvalue\u001b[0m\u001b[1;33m.\u001b[0m\u001b[0m_name\u001b[0m \u001b[1;33m=\u001b[0m \u001b[0mkey\u001b[0m\u001b[1;33m\u001b[0m\u001b[1;33m\u001b[0m\u001b[0m\n\u001b[0;32m    200\u001b[0m                 \u001b[0mself\u001b[0m\u001b[1;33m.\u001b[0m\u001b[0m_objects\u001b[0m\u001b[1;33m[\u001b[0m\u001b[0mkey\u001b[0m\u001b[1;33m]\u001b[0m \u001b[1;33m=\u001b[0m \u001b[0mvalue\u001b[0m\u001b[1;33m\u001b[0m\u001b[1;33m\u001b[0m\u001b[0m\n",
            "\u001b[1;32mc:\\users\\admin\\appdata\\local\\programs\\python\\python38\\lib\\site-packages\\slicer\\slicer_internal.py\u001b[0m in \u001b[0;36m__init__\u001b[1;34m(self, o, dim)\u001b[0m\n\u001b[0;32m    240\u001b[0m     \u001b[1;34m\"\"\" An object that slicer wraps. \"\"\"\u001b[0m\u001b[1;33m\u001b[0m\u001b[1;33m\u001b[0m\u001b[0m\n\u001b[0;32m    241\u001b[0m     \u001b[1;32mdef\u001b[0m \u001b[0m__init__\u001b[0m\u001b[1;33m(\u001b[0m\u001b[0mself\u001b[0m\u001b[1;33m,\u001b[0m \u001b[0mo\u001b[0m\u001b[1;33m,\u001b[0m \u001b[0mdim\u001b[0m\u001b[1;33m=\u001b[0m\u001b[1;34m\"auto\"\u001b[0m\u001b[1;33m)\u001b[0m\u001b[1;33m:\u001b[0m\u001b[1;33m\u001b[0m\u001b[1;33m\u001b[0m\u001b[0m\n\u001b[1;32m--> 242\u001b[1;33m         \u001b[0msuper\u001b[0m\u001b[1;33m(\u001b[0m\u001b[1;33m)\u001b[0m\u001b[1;33m.\u001b[0m\u001b[0m__init__\u001b[0m\u001b[1;33m(\u001b[0m\u001b[0mo\u001b[0m\u001b[1;33m,\u001b[0m \u001b[0mdim\u001b[0m\u001b[1;33m)\u001b[0m\u001b[1;33m\u001b[0m\u001b[1;33m\u001b[0m\u001b[0m\n\u001b[0m\u001b[0;32m    243\u001b[0m \u001b[1;33m\u001b[0m\u001b[0m\n\u001b[0;32m    244\u001b[0m \u001b[1;33m\u001b[0m\u001b[0m\n",
            "\u001b[1;32mc:\\users\\admin\\appdata\\local\\programs\\python\\python38\\lib\\site-packages\\slicer\\slicer_internal.py\u001b[0m in \u001b[0;36m__init__\u001b[1;34m(self, o, dim)\u001b[0m\n\u001b[0;32m    217\u001b[0m             \u001b[0mdim\u001b[0m\u001b[1;33m:\u001b[0m \u001b[0mTarget\u001b[0m \u001b[0mdimension\u001b[0m\u001b[1;33m(\u001b[0m\u001b[0ms\u001b[0m\u001b[1;33m)\u001b[0m \u001b[0mslicer\u001b[0m \u001b[0mwill\u001b[0m \u001b[0mindex\u001b[0m \u001b[0mon\u001b[0m \u001b[1;32mfor\u001b[0m \u001b[0mthis\u001b[0m \u001b[0mobject\u001b[0m\u001b[1;33m.\u001b[0m\u001b[1;33m\u001b[0m\u001b[1;33m\u001b[0m\u001b[0m\n\u001b[0;32m    218\u001b[0m         \"\"\"\n\u001b[1;32m--> 219\u001b[1;33m         \u001b[0msuper\u001b[0m\u001b[1;33m(\u001b[0m\u001b[1;33m)\u001b[0m\u001b[1;33m.\u001b[0m\u001b[0m__init__\u001b[0m\u001b[1;33m(\u001b[0m\u001b[0mo\u001b[0m\u001b[1;33m)\u001b[0m\u001b[1;33m\u001b[0m\u001b[1;33m\u001b[0m\u001b[0m\n\u001b[0m\u001b[0;32m    220\u001b[0m \u001b[1;33m\u001b[0m\u001b[0m\n\u001b[0;32m    221\u001b[0m         \u001b[1;31m# Protected attribute that can be overriden.\u001b[0m\u001b[1;33m\u001b[0m\u001b[1;33m\u001b[0m\u001b[1;33m\u001b[0m\u001b[0m\n",
            "\u001b[1;32mc:\\users\\admin\\appdata\\local\\programs\\python\\python38\\lib\\site-packages\\slicer\\slicer_internal.py\u001b[0m in \u001b[0;36m__init__\u001b[1;34m(self, o, max_dim)\u001b[0m\n\u001b[0;32m     41\u001b[0m         \u001b[0mself\u001b[0m\u001b[1;33m.\u001b[0m\u001b[0mmax_dim\u001b[0m \u001b[1;33m=\u001b[0m \u001b[0mmax_dim\u001b[0m\u001b[1;33m\u001b[0m\u001b[1;33m\u001b[0m\u001b[0m\n\u001b[0;32m     42\u001b[0m         \u001b[1;32mif\u001b[0m \u001b[0mself\u001b[0m\u001b[1;33m.\u001b[0m\u001b[0mmax_dim\u001b[0m \u001b[1;33m==\u001b[0m \u001b[1;34m\"auto\"\u001b[0m\u001b[1;33m:\u001b[0m\u001b[1;33m\u001b[0m\u001b[1;33m\u001b[0m\u001b[0m\n\u001b[1;32m---> 43\u001b[1;33m             \u001b[0mself\u001b[0m\u001b[1;33m.\u001b[0m\u001b[0mmax_dim\u001b[0m \u001b[1;33m=\u001b[0m \u001b[0mUnifiedDataHandler\u001b[0m\u001b[1;33m.\u001b[0m\u001b[0mmax_dim\u001b[0m\u001b[1;33m(\u001b[0m\u001b[0mo\u001b[0m\u001b[1;33m)\u001b[0m\u001b[1;33m\u001b[0m\u001b[1;33m\u001b[0m\u001b[0m\n\u001b[0m\u001b[0;32m     44\u001b[0m \u001b[1;33m\u001b[0m\u001b[0m\n\u001b[0;32m     45\u001b[0m     \u001b[1;32mdef\u001b[0m \u001b[0m__repr__\u001b[0m\u001b[1;33m(\u001b[0m\u001b[0mself\u001b[0m\u001b[1;33m)\u001b[0m \u001b[1;33m->\u001b[0m \u001b[0mAnyStr\u001b[0m\u001b[1;33m:\u001b[0m\u001b[1;33m\u001b[0m\u001b[1;33m\u001b[0m\u001b[0m\n",
            "\u001b[1;32mc:\\users\\admin\\appdata\\local\\programs\\python\\python38\\lib\\site-packages\\slicer\\slicer_internal.py\u001b[0m in \u001b[0;36mmax_dim\u001b[1;34m(cls, o)\u001b[0m\n\u001b[0;32m    589\u001b[0m         \u001b[1;32mif\u001b[0m \u001b[0mo_type\u001b[0m \u001b[1;32mnot\u001b[0m \u001b[1;32min\u001b[0m \u001b[0mcls\u001b[0m\u001b[1;33m.\u001b[0m\u001b[0mtype_map\u001b[0m\u001b[1;33m:\u001b[0m\u001b[1;33m\u001b[0m\u001b[1;33m\u001b[0m\u001b[0m\n\u001b[0;32m    590\u001b[0m             \u001b[1;32mreturn\u001b[0m \u001b[1;36m0\u001b[0m\u001b[1;33m\u001b[0m\u001b[1;33m\u001b[0m\u001b[0m\n\u001b[1;32m--> 591\u001b[1;33m         \u001b[1;32mreturn\u001b[0m \u001b[0mcls\u001b[0m\u001b[1;33m.\u001b[0m\u001b[0mtype_map\u001b[0m\u001b[1;33m[\u001b[0m\u001b[0mo_type\u001b[0m\u001b[1;33m]\u001b[0m\u001b[1;33m.\u001b[0m\u001b[0mmax_dim\u001b[0m\u001b[1;33m(\u001b[0m\u001b[0mo\u001b[0m\u001b[1;33m)\u001b[0m\u001b[1;33m\u001b[0m\u001b[1;33m\u001b[0m\u001b[0m\n\u001b[0m\u001b[0;32m    592\u001b[0m \u001b[1;33m\u001b[0m\u001b[0m\n\u001b[0;32m    593\u001b[0m     \u001b[1;33m@\u001b[0m\u001b[0mclassmethod\u001b[0m\u001b[1;33m\u001b[0m\u001b[1;33m\u001b[0m\u001b[0m\n",
            "\u001b[1;32mc:\\users\\admin\\appdata\\local\\programs\\python\\python38\\lib\\site-packages\\slicer\\slicer_internal.py\u001b[0m in \u001b[0;36mmax_dim\u001b[1;34m(cls, o)\u001b[0m\n\u001b[0;32m    471\u001b[0m     \u001b[1;32mdef\u001b[0m \u001b[0mmax_dim\u001b[0m\u001b[1;33m(\u001b[0m\u001b[0mcls\u001b[0m\u001b[1;33m,\u001b[0m \u001b[0mo\u001b[0m\u001b[1;33m)\u001b[0m\u001b[1;33m:\u001b[0m\u001b[1;33m\u001b[0m\u001b[1;33m\u001b[0m\u001b[0m\n\u001b[0;32m    472\u001b[0m         \u001b[1;32mif\u001b[0m \u001b[0m_safe_isinstance\u001b[0m\u001b[1;33m(\u001b[0m\u001b[0mo\u001b[0m\u001b[1;33m,\u001b[0m \u001b[1;34m\"numpy\"\u001b[0m\u001b[1;33m,\u001b[0m \u001b[1;34m\"ndarray\"\u001b[0m\u001b[1;33m)\u001b[0m \u001b[1;32mand\u001b[0m \u001b[0mo\u001b[0m\u001b[1;33m.\u001b[0m\u001b[0mdtype\u001b[0m \u001b[1;33m==\u001b[0m \u001b[1;34m\"object\"\u001b[0m\u001b[1;33m:\u001b[0m\u001b[1;33m\u001b[0m\u001b[1;33m\u001b[0m\u001b[0m\n\u001b[1;32m--> 473\u001b[1;33m             \u001b[1;32mreturn\u001b[0m \u001b[0mmax\u001b[0m\u001b[1;33m(\u001b[0m\u001b[1;33m[\u001b[0m\u001b[0mUnifiedDataHandler\u001b[0m\u001b[1;33m.\u001b[0m\u001b[0mmax_dim\u001b[0m\u001b[1;33m(\u001b[0m\u001b[0mx\u001b[0m\u001b[1;33m)\u001b[0m \u001b[1;32mfor\u001b[0m \u001b[0mx\u001b[0m \u001b[1;32min\u001b[0m \u001b[0mo\u001b[0m\u001b[1;33m]\u001b[0m\u001b[1;33m,\u001b[0m \u001b[0mdefault\u001b[0m\u001b[1;33m=\u001b[0m\u001b[1;33m-\u001b[0m\u001b[1;36m1\u001b[0m\u001b[1;33m)\u001b[0m \u001b[1;33m+\u001b[0m \u001b[1;36m1\u001b[0m\u001b[1;33m\u001b[0m\u001b[1;33m\u001b[0m\u001b[0m\n\u001b[0m\u001b[0;32m    474\u001b[0m         \u001b[1;32melse\u001b[0m\u001b[1;33m:\u001b[0m\u001b[1;33m\u001b[0m\u001b[1;33m\u001b[0m\u001b[0m\n\u001b[0;32m    475\u001b[0m             \u001b[1;32mreturn\u001b[0m \u001b[0mlen\u001b[0m\u001b[1;33m(\u001b[0m\u001b[0mo\u001b[0m\u001b[1;33m.\u001b[0m\u001b[0mshape\u001b[0m\u001b[1;33m)\u001b[0m\u001b[1;33m\u001b[0m\u001b[1;33m\u001b[0m\u001b[0m\n",
            "\u001b[1;32mc:\\users\\admin\\appdata\\local\\programs\\python\\python38\\lib\\site-packages\\slicer\\slicer_internal.py\u001b[0m in \u001b[0;36m<listcomp>\u001b[1;34m(.0)\u001b[0m\n\u001b[0;32m    471\u001b[0m     \u001b[1;32mdef\u001b[0m \u001b[0mmax_dim\u001b[0m\u001b[1;33m(\u001b[0m\u001b[0mcls\u001b[0m\u001b[1;33m,\u001b[0m \u001b[0mo\u001b[0m\u001b[1;33m)\u001b[0m\u001b[1;33m:\u001b[0m\u001b[1;33m\u001b[0m\u001b[1;33m\u001b[0m\u001b[0m\n\u001b[0;32m    472\u001b[0m         \u001b[1;32mif\u001b[0m \u001b[0m_safe_isinstance\u001b[0m\u001b[1;33m(\u001b[0m\u001b[0mo\u001b[0m\u001b[1;33m,\u001b[0m \u001b[1;34m\"numpy\"\u001b[0m\u001b[1;33m,\u001b[0m \u001b[1;34m\"ndarray\"\u001b[0m\u001b[1;33m)\u001b[0m \u001b[1;32mand\u001b[0m \u001b[0mo\u001b[0m\u001b[1;33m.\u001b[0m\u001b[0mdtype\u001b[0m \u001b[1;33m==\u001b[0m \u001b[1;34m\"object\"\u001b[0m\u001b[1;33m:\u001b[0m\u001b[1;33m\u001b[0m\u001b[1;33m\u001b[0m\u001b[0m\n\u001b[1;32m--> 473\u001b[1;33m             \u001b[1;32mreturn\u001b[0m \u001b[0mmax\u001b[0m\u001b[1;33m(\u001b[0m\u001b[1;33m[\u001b[0m\u001b[0mUnifiedDataHandler\u001b[0m\u001b[1;33m.\u001b[0m\u001b[0mmax_dim\u001b[0m\u001b[1;33m(\u001b[0m\u001b[0mx\u001b[0m\u001b[1;33m)\u001b[0m \u001b[1;32mfor\u001b[0m \u001b[0mx\u001b[0m \u001b[1;32min\u001b[0m \u001b[0mo\u001b[0m\u001b[1;33m]\u001b[0m\u001b[1;33m,\u001b[0m \u001b[0mdefault\u001b[0m\u001b[1;33m=\u001b[0m\u001b[1;33m-\u001b[0m\u001b[1;36m1\u001b[0m\u001b[1;33m)\u001b[0m \u001b[1;33m+\u001b[0m \u001b[1;36m1\u001b[0m\u001b[1;33m\u001b[0m\u001b[1;33m\u001b[0m\u001b[0m\n\u001b[0m\u001b[0;32m    474\u001b[0m         \u001b[1;32melse\u001b[0m\u001b[1;33m:\u001b[0m\u001b[1;33m\u001b[0m\u001b[1;33m\u001b[0m\u001b[0m\n\u001b[0;32m    475\u001b[0m             \u001b[1;32mreturn\u001b[0m \u001b[0mlen\u001b[0m\u001b[1;33m(\u001b[0m\u001b[0mo\u001b[0m\u001b[1;33m.\u001b[0m\u001b[0mshape\u001b[0m\u001b[1;33m)\u001b[0m\u001b[1;33m\u001b[0m\u001b[1;33m\u001b[0m\u001b[0m\n",
            "\u001b[1;32mc:\\users\\admin\\appdata\\local\\programs\\python\\python38\\lib\\site-packages\\slicer\\slicer_internal.py\u001b[0m in \u001b[0;36mmax_dim\u001b[1;34m(cls, o)\u001b[0m\n\u001b[0;32m    589\u001b[0m         \u001b[1;32mif\u001b[0m \u001b[0mo_type\u001b[0m \u001b[1;32mnot\u001b[0m \u001b[1;32min\u001b[0m \u001b[0mcls\u001b[0m\u001b[1;33m.\u001b[0m\u001b[0mtype_map\u001b[0m\u001b[1;33m:\u001b[0m\u001b[1;33m\u001b[0m\u001b[1;33m\u001b[0m\u001b[0m\n\u001b[0;32m    590\u001b[0m             \u001b[1;32mreturn\u001b[0m \u001b[1;36m0\u001b[0m\u001b[1;33m\u001b[0m\u001b[1;33m\u001b[0m\u001b[0m\n\u001b[1;32m--> 591\u001b[1;33m         \u001b[1;32mreturn\u001b[0m \u001b[0mcls\u001b[0m\u001b[1;33m.\u001b[0m\u001b[0mtype_map\u001b[0m\u001b[1;33m[\u001b[0m\u001b[0mo_type\u001b[0m\u001b[1;33m]\u001b[0m\u001b[1;33m.\u001b[0m\u001b[0mmax_dim\u001b[0m\u001b[1;33m(\u001b[0m\u001b[0mo\u001b[0m\u001b[1;33m)\u001b[0m\u001b[1;33m\u001b[0m\u001b[1;33m\u001b[0m\u001b[0m\n\u001b[0m\u001b[0;32m    592\u001b[0m \u001b[1;33m\u001b[0m\u001b[0m\n\u001b[0;32m    593\u001b[0m     \u001b[1;33m@\u001b[0m\u001b[0mclassmethod\u001b[0m\u001b[1;33m\u001b[0m\u001b[1;33m\u001b[0m\u001b[0m\n",
            "\u001b[1;32mc:\\users\\admin\\appdata\\local\\programs\\python\\python38\\lib\\site-packages\\slicer\\slicer_internal.py\u001b[0m in \u001b[0;36mmax_dim\u001b[1;34m(cls, o)\u001b[0m\n\u001b[0;32m    471\u001b[0m     \u001b[1;32mdef\u001b[0m \u001b[0mmax_dim\u001b[0m\u001b[1;33m(\u001b[0m\u001b[0mcls\u001b[0m\u001b[1;33m,\u001b[0m \u001b[0mo\u001b[0m\u001b[1;33m)\u001b[0m\u001b[1;33m:\u001b[0m\u001b[1;33m\u001b[0m\u001b[1;33m\u001b[0m\u001b[0m\n\u001b[0;32m    472\u001b[0m         \u001b[1;32mif\u001b[0m \u001b[0m_safe_isinstance\u001b[0m\u001b[1;33m(\u001b[0m\u001b[0mo\u001b[0m\u001b[1;33m,\u001b[0m \u001b[1;34m\"numpy\"\u001b[0m\u001b[1;33m,\u001b[0m \u001b[1;34m\"ndarray\"\u001b[0m\u001b[1;33m)\u001b[0m \u001b[1;32mand\u001b[0m \u001b[0mo\u001b[0m\u001b[1;33m.\u001b[0m\u001b[0mdtype\u001b[0m \u001b[1;33m==\u001b[0m \u001b[1;34m\"object\"\u001b[0m\u001b[1;33m:\u001b[0m\u001b[1;33m\u001b[0m\u001b[1;33m\u001b[0m\u001b[0m\n\u001b[1;32m--> 473\u001b[1;33m             \u001b[1;32mreturn\u001b[0m \u001b[0mmax\u001b[0m\u001b[1;33m(\u001b[0m\u001b[1;33m[\u001b[0m\u001b[0mUnifiedDataHandler\u001b[0m\u001b[1;33m.\u001b[0m\u001b[0mmax_dim\u001b[0m\u001b[1;33m(\u001b[0m\u001b[0mx\u001b[0m\u001b[1;33m)\u001b[0m \u001b[1;32mfor\u001b[0m \u001b[0mx\u001b[0m \u001b[1;32min\u001b[0m \u001b[0mo\u001b[0m\u001b[1;33m]\u001b[0m\u001b[1;33m,\u001b[0m \u001b[0mdefault\u001b[0m\u001b[1;33m=\u001b[0m\u001b[1;33m-\u001b[0m\u001b[1;36m1\u001b[0m\u001b[1;33m)\u001b[0m \u001b[1;33m+\u001b[0m \u001b[1;36m1\u001b[0m\u001b[1;33m\u001b[0m\u001b[1;33m\u001b[0m\u001b[0m\n\u001b[0m\u001b[0;32m    474\u001b[0m         \u001b[1;32melse\u001b[0m\u001b[1;33m:\u001b[0m\u001b[1;33m\u001b[0m\u001b[1;33m\u001b[0m\u001b[0m\n\u001b[0;32m    475\u001b[0m             \u001b[1;32mreturn\u001b[0m \u001b[0mlen\u001b[0m\u001b[1;33m(\u001b[0m\u001b[0mo\u001b[0m\u001b[1;33m.\u001b[0m\u001b[0mshape\u001b[0m\u001b[1;33m)\u001b[0m\u001b[1;33m\u001b[0m\u001b[1;33m\u001b[0m\u001b[0m\n",
            "\u001b[1;32mc:\\users\\admin\\appdata\\local\\programs\\python\\python38\\lib\\site-packages\\slicer\\slicer_internal.py\u001b[0m in \u001b[0;36m<listcomp>\u001b[1;34m(.0)\u001b[0m\n\u001b[0;32m    471\u001b[0m     \u001b[1;32mdef\u001b[0m \u001b[0mmax_dim\u001b[0m\u001b[1;33m(\u001b[0m\u001b[0mcls\u001b[0m\u001b[1;33m,\u001b[0m \u001b[0mo\u001b[0m\u001b[1;33m)\u001b[0m\u001b[1;33m:\u001b[0m\u001b[1;33m\u001b[0m\u001b[1;33m\u001b[0m\u001b[0m\n\u001b[0;32m    472\u001b[0m         \u001b[1;32mif\u001b[0m \u001b[0m_safe_isinstance\u001b[0m\u001b[1;33m(\u001b[0m\u001b[0mo\u001b[0m\u001b[1;33m,\u001b[0m \u001b[1;34m\"numpy\"\u001b[0m\u001b[1;33m,\u001b[0m \u001b[1;34m\"ndarray\"\u001b[0m\u001b[1;33m)\u001b[0m \u001b[1;32mand\u001b[0m \u001b[0mo\u001b[0m\u001b[1;33m.\u001b[0m\u001b[0mdtype\u001b[0m \u001b[1;33m==\u001b[0m \u001b[1;34m\"object\"\u001b[0m\u001b[1;33m:\u001b[0m\u001b[1;33m\u001b[0m\u001b[1;33m\u001b[0m\u001b[0m\n\u001b[1;32m--> 473\u001b[1;33m             \u001b[1;32mreturn\u001b[0m \u001b[0mmax\u001b[0m\u001b[1;33m(\u001b[0m\u001b[1;33m[\u001b[0m\u001b[0mUnifiedDataHandler\u001b[0m\u001b[1;33m.\u001b[0m\u001b[0mmax_dim\u001b[0m\u001b[1;33m(\u001b[0m\u001b[0mx\u001b[0m\u001b[1;33m)\u001b[0m \u001b[1;32mfor\u001b[0m \u001b[0mx\u001b[0m \u001b[1;32min\u001b[0m \u001b[0mo\u001b[0m\u001b[1;33m]\u001b[0m\u001b[1;33m,\u001b[0m \u001b[0mdefault\u001b[0m\u001b[1;33m=\u001b[0m\u001b[1;33m-\u001b[0m\u001b[1;36m1\u001b[0m\u001b[1;33m)\u001b[0m \u001b[1;33m+\u001b[0m \u001b[1;36m1\u001b[0m\u001b[1;33m\u001b[0m\u001b[1;33m\u001b[0m\u001b[0m\n\u001b[0m\u001b[0;32m    474\u001b[0m         \u001b[1;32melse\u001b[0m\u001b[1;33m:\u001b[0m\u001b[1;33m\u001b[0m\u001b[1;33m\u001b[0m\u001b[0m\n\u001b[0;32m    475\u001b[0m             \u001b[1;32mreturn\u001b[0m \u001b[0mlen\u001b[0m\u001b[1;33m(\u001b[0m\u001b[0mo\u001b[0m\u001b[1;33m.\u001b[0m\u001b[0mshape\u001b[0m\u001b[1;33m)\u001b[0m\u001b[1;33m\u001b[0m\u001b[1;33m\u001b[0m\u001b[0m\n",
            "\u001b[1;31mKeyboardInterrupt\u001b[0m: "
          ]
        }
      ]
    },
    {
      "cell_type": "code",
      "metadata": {
        "id": "-bx7US6AKUX7",
        "outputId": "ec016f2e-caab-4e0b-a107-c35a3e3b4615"
      },
      "source": [
        "feature_names = [\n",
        "        \"province_code\",\n",
        "        \"district_code\",\n",
        "        \"date_diff\",\n",
        "        \"viettel_bank_code\",\n",
        "        \"channel_type_id\",\n",
        "        \"channel_code\",\n",
        "        \"staff_code\",\n",
        "        \"trans_amount\",\n",
        "        \"trans_fee\",\n",
        "        \"trans_type\",\n",
        "        \"process_code\",\n",
        "        \"channel_fee\",\n",
        "        \"shop_code\",\n",
        "        \"customer_fee\",\n",
        "        \"fee_partner\",\n",
        "        \"same_name\",\n",
        "        \"same_phone\",\n",
        "        \"same_phone_channel\",\n",
        "        \"same_phone_channel_ben\"\n",
        "    ]\n",
        "df_feature_importance = pd.DataFrame(loaded_cat_model.feature_importances_, index=feature_names, columns=['feature importance']).sort_values('feature importance', ascending=False)\n",
        "df_feature_importance"
      ],
      "execution_count": null,
      "outputs": [
        {
          "output_type": "execute_result",
          "data": {
            "text/html": [
              "<div>\n",
              "<style scoped>\n",
              "    .dataframe tbody tr th:only-of-type {\n",
              "        vertical-align: middle;\n",
              "    }\n",
              "\n",
              "    .dataframe tbody tr th {\n",
              "        vertical-align: top;\n",
              "    }\n",
              "\n",
              "    .dataframe thead th {\n",
              "        text-align: right;\n",
              "    }\n",
              "</style>\n",
              "<table border=\"1\" class=\"dataframe\">\n",
              "  <thead>\n",
              "    <tr style=\"text-align: right;\">\n",
              "      <th></th>\n",
              "      <th>feature importance</th>\n",
              "    </tr>\n",
              "  </thead>\n",
              "  <tbody>\n",
              "    <tr>\n",
              "      <th>process_code</th>\n",
              "      <td>45.017356</td>\n",
              "    </tr>\n",
              "    <tr>\n",
              "      <th>channel_type_id</th>\n",
              "      <td>10.523680</td>\n",
              "    </tr>\n",
              "    <tr>\n",
              "      <th>viettel_bank_code</th>\n",
              "      <td>7.151862</td>\n",
              "    </tr>\n",
              "    <tr>\n",
              "      <th>trans_fee</th>\n",
              "      <td>7.114662</td>\n",
              "    </tr>\n",
              "    <tr>\n",
              "      <th>trans_amount</th>\n",
              "      <td>4.506461</td>\n",
              "    </tr>\n",
              "    <tr>\n",
              "      <th>customer_fee</th>\n",
              "      <td>4.156149</td>\n",
              "    </tr>\n",
              "    <tr>\n",
              "      <th>channel_code</th>\n",
              "      <td>3.638753</td>\n",
              "    </tr>\n",
              "    <tr>\n",
              "      <th>channel_fee</th>\n",
              "      <td>3.224428</td>\n",
              "    </tr>\n",
              "    <tr>\n",
              "      <th>date_diff</th>\n",
              "      <td>2.869158</td>\n",
              "    </tr>\n",
              "    <tr>\n",
              "      <th>same_phone</th>\n",
              "      <td>2.355261</td>\n",
              "    </tr>\n",
              "    <tr>\n",
              "      <th>staff_code</th>\n",
              "      <td>1.984916</td>\n",
              "    </tr>\n",
              "    <tr>\n",
              "      <th>same_phone_channel_ben</th>\n",
              "      <td>1.938104</td>\n",
              "    </tr>\n",
              "    <tr>\n",
              "      <th>trans_type</th>\n",
              "      <td>1.819713</td>\n",
              "    </tr>\n",
              "    <tr>\n",
              "      <th>shop_code</th>\n",
              "      <td>1.148153</td>\n",
              "    </tr>\n",
              "    <tr>\n",
              "      <th>district_code</th>\n",
              "      <td>1.071195</td>\n",
              "    </tr>\n",
              "    <tr>\n",
              "      <th>province_code</th>\n",
              "      <td>0.923406</td>\n",
              "    </tr>\n",
              "    <tr>\n",
              "      <th>same_phone_channel</th>\n",
              "      <td>0.452175</td>\n",
              "    </tr>\n",
              "    <tr>\n",
              "      <th>same_name</th>\n",
              "      <td>0.104568</td>\n",
              "    </tr>\n",
              "    <tr>\n",
              "      <th>fee_partner</th>\n",
              "      <td>0.000000</td>\n",
              "    </tr>\n",
              "  </tbody>\n",
              "</table>\n",
              "</div>"
            ],
            "text/plain": [
              "                        feature importance\n",
              "process_code                     45.017356\n",
              "channel_type_id                  10.523680\n",
              "viettel_bank_code                 7.151862\n",
              "trans_fee                         7.114662\n",
              "trans_amount                      4.506461\n",
              "customer_fee                      4.156149\n",
              "channel_code                      3.638753\n",
              "channel_fee                       3.224428\n",
              "date_diff                         2.869158\n",
              "same_phone                        2.355261\n",
              "staff_code                        1.984916\n",
              "same_phone_channel_ben            1.938104\n",
              "trans_type                        1.819713\n",
              "shop_code                         1.148153\n",
              "district_code                     1.071195\n",
              "province_code                     0.923406\n",
              "same_phone_channel                0.452175\n",
              "same_name                         0.104568\n",
              "fee_partner                       0.000000"
            ]
          },
          "metadata": {
            "tags": []
          },
          "execution_count": 53
        }
      ]
    },
    {
      "cell_type": "code",
      "metadata": {
        "id": "xEWcMBT8KUX9",
        "outputId": "653ea9c7-c247-40bd-956c-64c47050e311"
      },
      "source": [
        "df_feature_importance.plot(kind='bar');"
      ],
      "execution_count": null,
      "outputs": [
        {
          "output_type": "display_data",
          "data": {
            "image/png": "[encoded data removed]",
            "text/plain": [
              "<Figure size 432x288 with 1 Axes>"
            ]
          },
          "metadata": {
            "tags": [],
            "needs_background": "light"
          }
        }
      ]
    },
    {
      "cell_type": "code",
      "metadata": {
        "id": "w1ucxofJKUX9"
      },
      "source": [
        "def plot_feature_importance(model, features):\n",
        "    feature_importances = pd.DataFrame(sorted(zip(model.feature_importances_, features)), columns=['Value', 'Feature'])\n",
        "    plt.figure(figsize=(20,10))\n",
        "    sns.barplot(x=\"Value\", y=\"Feature\", data=feature_importances.sort_values(by=\"Value\", ascending=False).iloc[:50])\n",
        "    plt.title(\"Feature Importance\")\n",
        "    plt.tight_layout()\n",
        "    plt.show()"
      ],
      "execution_count": null,
      "outputs": []
    },
    {
      "cell_type": "code",
      "metadata": {
        "id": "CV_ZL-uZKUX-",
        "outputId": "83d41c26-cb9f-42f4-f59e-430b68442c5d"
      },
      "source": [
        "plot_feature_importance(loaded_cat_model, feature_names)"
      ],
      "execution_count": null,
      "outputs": [
        {
          "output_type": "display_data",
          "data": {
            "image/png": "[encoded data removed]",
            "text/plain": [
              "<Figure size 1440x720 with 1 Axes>"
            ]
          },
          "metadata": {
            "tags": [],
            "needs_background": "light"
          }
        }
      ]
    },
    {
      "cell_type": "code",
      "metadata": {
        "id": "g2YepqWqKUX_"
      },
      "source": [
        ""
      ],
      "execution_count": null,
      "outputs": []
    }
  ]
}