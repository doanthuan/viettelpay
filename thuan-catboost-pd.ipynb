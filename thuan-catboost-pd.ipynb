{
 "cells": [
  {
   "cell_type": "code",
   "execution_count": 1,
   "metadata": {},
   "outputs": [],
   "source": [
    "import numpy as np\n",
    "import seaborn as sns \n",
    "import matplotlib.pyplot as plt\n",
    "import pandas as pd\n",
    "from sklearn.model_selection import train_test_split\n",
    "from sklearn.metrics import classification_report, confusion_matrix, roc_auc_score, precision_score, recall_score, f1_score\n",
    "import pickle"
   ]
  },
  {
   "cell_type": "code",
   "execution_count": 19,
   "metadata": {},
   "outputs": [
    {
     "name": "stdout",
     "output_type": "stream",
     "text": [
      "Not running on CoLab\n"
     ]
    }
   ],
   "source": [
    "if 'google.colab' in str(get_ipython()):\n",
    "    print('Running on CoLab')\n",
    "    !pip install catboost\n",
    "    from catboost import CatBoostClassifier\n",
    "    import os\n",
    "    import urllib.request\n",
    "    urllib.request.urlretrieve('https://raw.githubusercontent.com/doanthuan/viettelpay/master/util.py', 'util.py')\n",
    "    from util import *\n",
    "    DATA_DIR = \"/content/drive/MyDrive/projects/viettelpay/code/data\"\n",
    "else:\n",
    "    print('Not running on CoLab')\n",
    "    from catboost import CatBoostClassifier\n",
    "    from util import *\n",
    "    DATA_DIR = \"data\""
   ]
  },
  {
   "cell_type": "code",
   "execution_count": 2,
   "metadata": {},
   "outputs": [],
   "source": [
    "pd.set_option('max_columns', None)\n",
    "#pd.set_option(\"max_rows\", None)"
   ]
  },
  {
   "cell_type": "code",
   "execution_count": 3,
   "metadata": {},
   "outputs": [
    {
     "data": {
      "text/html": [
       "<div>\n",
       "<style scoped>\n",
       "    .dataframe tbody tr th:only-of-type {\n",
       "        vertical-align: middle;\n",
       "    }\n",
       "\n",
       "    .dataframe tbody tr th {\n",
       "        vertical-align: top;\n",
       "    }\n",
       "\n",
       "    .dataframe thead th {\n",
       "        text-align: right;\n",
       "    }\n",
       "</style>\n",
       "<table border=\"1\" class=\"dataframe\">\n",
       "  <thead>\n",
       "    <tr style=\"text-align: right;\">\n",
       "      <th></th>\n",
       "      <th>request_date</th>\n",
       "      <th>is_fraud</th>\n",
       "      <th>province_code</th>\n",
       "      <th>district_code</th>\n",
       "      <th>viettel_bank_code</th>\n",
       "      <th>channel_type_id</th>\n",
       "      <th>channel_code</th>\n",
       "      <th>staff_code</th>\n",
       "      <th>trans_amount</th>\n",
       "      <th>trans_fee</th>\n",
       "      <th>trans_type</th>\n",
       "      <th>process_code</th>\n",
       "      <th>channel_fee</th>\n",
       "      <th>shop_code</th>\n",
       "      <th>customer_fee</th>\n",
       "      <th>cust_name</th>\n",
       "      <th>ben_cust_name</th>\n",
       "      <th>msisdn</th>\n",
       "      <th>ben_msisdn</th>\n",
       "      <th>msisdn_channel</th>\n",
       "      <th>staff_name</th>\n",
       "    </tr>\n",
       "  </thead>\n",
       "  <tbody>\n",
       "    <tr>\n",
       "      <th>0</th>\n",
       "      <td>2020-07-20 02:54:32</td>\n",
       "      <td>0</td>\n",
       "      <td>T008</td>\n",
       "      <td>T00801</td>\n",
       "      <td>KPP</td>\n",
       "      <td>163</td>\n",
       "      <td>4400590001</td>\n",
       "      <td>4400590001</td>\n",
       "      <td>1000000.0</td>\n",
       "      <td>8182.0</td>\n",
       "      <td>4</td>\n",
       "      <td>517000</td>\n",
       "      <td>7200.0</td>\n",
       "      <td>4400590001</td>\n",
       "      <td>18000.0</td>\n",
       "      <td>Tran Thi Bich Van</td>\n",
       "      <td>Thach Quoc Bao</td>\n",
       "      <td>00018f71c1cc10d15963</td>\n",
       "      <td>0001ddaf20bf9527ab20</td>\n",
       "      <td>0001db3e096d46c51b2f</td>\n",
       "      <td>None</td>\n",
       "    </tr>\n",
       "    <tr>\n",
       "      <th>1</th>\n",
       "      <td>2020-07-20 10:00:47</td>\n",
       "      <td>0</td>\n",
       "      <td>H004</td>\n",
       "      <td>H004013</td>\n",
       "      <td>VIETTEL</td>\n",
       "      <td>164</td>\n",
       "      <td>ANHKP_VTPOST_HNI</td>\n",
       "      <td>ANHKP_VTPOST_HNI</td>\n",
       "      <td>153598.0</td>\n",
       "      <td>1000.0</td>\n",
       "      <td>3</td>\n",
       "      <td>666003</td>\n",
       "      <td>550.0</td>\n",
       "      <td>1800240005</td>\n",
       "      <td>0.0</td>\n",
       "      <td>Nguyen Van Muon</td>\n",
       "      <td>Nguyen Van Muon</td>\n",
       "      <td>0001f10df0e9dc76348c</td>\n",
       "      <td>None</td>\n",
       "      <td>0001fedb1166ef86223f</td>\n",
       "      <td>Kiều Phương Anh</td>\n",
       "    </tr>\n",
       "    <tr>\n",
       "      <th>2</th>\n",
       "      <td>2020-07-20 04:26:55</td>\n",
       "      <td>0</td>\n",
       "      <td>T008</td>\n",
       "      <td>T00801</td>\n",
       "      <td>KPP</td>\n",
       "      <td>163</td>\n",
       "      <td>4400590001</td>\n",
       "      <td>4400590001</td>\n",
       "      <td>800000.0</td>\n",
       "      <td>8182.0</td>\n",
       "      <td>1</td>\n",
       "      <td>645200</td>\n",
       "      <td>7200.0</td>\n",
       "      <td>4400590001</td>\n",
       "      <td>18000.0</td>\n",
       "      <td>Nguyen Ngoc Si</td>\n",
       "      <td>Nguyen Thi Cam Trang</td>\n",
       "      <td>000141be9248e7b99368</td>\n",
       "      <td>00018b84ac3a67efed57</td>\n",
       "      <td>0001db3e096d46c51b2f</td>\n",
       "      <td>None</td>\n",
       "    </tr>\n",
       "    <tr>\n",
       "      <th>3</th>\n",
       "      <td>2020-07-20 16:47:45</td>\n",
       "      <td>0</td>\n",
       "      <td>N350</td>\n",
       "      <td>N350005</td>\n",
       "      <td>KPP</td>\n",
       "      <td>1</td>\n",
       "      <td>1000640100_00994_DB</td>\n",
       "      <td>1000640100_00994_DB</td>\n",
       "      <td>294546.0</td>\n",
       "      <td>1000.0</td>\n",
       "      <td>3</td>\n",
       "      <td>KPP301</td>\n",
       "      <td>770.0</td>\n",
       "      <td>1000640100_VTP</td>\n",
       "      <td>0.0</td>\n",
       "      <td>None</td>\n",
       "      <td>None</td>\n",
       "      <td>0001c5fadb5cd989c63f</td>\n",
       "      <td>None</td>\n",
       "      <td>0001c5fadb5cd989c63f</td>\n",
       "      <td>ha anh tuan</td>\n",
       "    </tr>\n",
       "    <tr>\n",
       "      <th>4</th>\n",
       "      <td>2020-07-20 12:00:24</td>\n",
       "      <td>0</td>\n",
       "      <td>D061</td>\n",
       "      <td>D061001</td>\n",
       "      <td>KPP</td>\n",
       "      <td>1</td>\n",
       "      <td>1200019124_02577_DB</td>\n",
       "      <td>1200019124_02577_DB</td>\n",
       "      <td>360358.0</td>\n",
       "      <td>1000.0</td>\n",
       "      <td>3</td>\n",
       "      <td>KPP301</td>\n",
       "      <td>770.0</td>\n",
       "      <td>1200019124_VTP</td>\n",
       "      <td>0.0</td>\n",
       "      <td>None</td>\n",
       "      <td>None</td>\n",
       "      <td>0001c60a841f0d66fc35</td>\n",
       "      <td>None</td>\n",
       "      <td>00019c24bf58e516f546</td>\n",
       "      <td>Diem CCDVVT LD CH Manh Hung _Bui Manh Hung</td>\n",
       "    </tr>\n",
       "  </tbody>\n",
       "</table>\n",
       "</div>"
      ],
      "text/plain": [
       "         request_date  is_fraud province_code district_code viettel_bank_code  \\\n",
       "0 2020-07-20 02:54:32         0          T008        T00801               KPP   \n",
       "1 2020-07-20 10:00:47         0          H004       H004013           VIETTEL   \n",
       "2 2020-07-20 04:26:55         0          T008        T00801               KPP   \n",
       "3 2020-07-20 16:47:45         0          N350       N350005               KPP   \n",
       "4 2020-07-20 12:00:24         0          D061       D061001               KPP   \n",
       "\n",
       "  channel_type_id         channel_code           staff_code  trans_amount  \\\n",
       "0             163           4400590001           4400590001     1000000.0   \n",
       "1             164     ANHKP_VTPOST_HNI     ANHKP_VTPOST_HNI      153598.0   \n",
       "2             163           4400590001           4400590001      800000.0   \n",
       "3               1  1000640100_00994_DB  1000640100_00994_DB      294546.0   \n",
       "4               1  1200019124_02577_DB  1200019124_02577_DB      360358.0   \n",
       "\n",
       "   trans_fee trans_type process_code  channel_fee       shop_code  \\\n",
       "0     8182.0          4       517000       7200.0      4400590001   \n",
       "1     1000.0          3       666003        550.0      1800240005   \n",
       "2     8182.0          1       645200       7200.0      4400590001   \n",
       "3     1000.0          3       KPP301        770.0  1000640100_VTP   \n",
       "4     1000.0          3       KPP301        770.0  1200019124_VTP   \n",
       "\n",
       "   customer_fee          cust_name         ben_cust_name  \\\n",
       "0       18000.0  Tran Thi Bich Van        Thach Quoc Bao   \n",
       "1           0.0    Nguyen Van Muon       Nguyen Van Muon   \n",
       "2       18000.0     Nguyen Ngoc Si  Nguyen Thi Cam Trang   \n",
       "3           0.0               None                  None   \n",
       "4           0.0               None                  None   \n",
       "\n",
       "                 msisdn            ben_msisdn        msisdn_channel  \\\n",
       "0  00018f71c1cc10d15963  0001ddaf20bf9527ab20  0001db3e096d46c51b2f   \n",
       "1  0001f10df0e9dc76348c                  None  0001fedb1166ef86223f   \n",
       "2  000141be9248e7b99368  00018b84ac3a67efed57  0001db3e096d46c51b2f   \n",
       "3  0001c5fadb5cd989c63f                  None  0001c5fadb5cd989c63f   \n",
       "4  0001c60a841f0d66fc35                  None  00019c24bf58e516f546   \n",
       "\n",
       "                                   staff_name  \n",
       "0                                        None  \n",
       "1                             Kiều Phương Anh  \n",
       "2                                        None  \n",
       "3                                 ha anh tuan  \n",
       "4  Diem CCDVVT LD CH Manh Hung _Bui Manh Hung  "
      ]
     },
     "execution_count": 3,
     "metadata": {},
     "output_type": "execute_result"
    }
   ],
   "source": [
    "use_cols = [\n",
    "    \"request_date\",\n",
    "    \"is_fraud\",\n",
    "    \"province_code\",\n",
    "    \"district_code\",\n",
    "    \"viettel_bank_code\",\n",
    "    \"channel_type_id\",\n",
    "    \"channel_code\",\n",
    "    \"staff_code\",\n",
    "    \"trans_amount\",\n",
    "    \"trans_fee\",\n",
    "    \"trans_type\",\n",
    "    \"process_code\",\n",
    "    \"channel_fee\",\n",
    "    \"shop_code\",\n",
    "    \"customer_fee\",\n",
    "    \"cust_name\",\n",
    "    \"ben_cust_name\",\n",
    "    \"msisdn\",\n",
    "    \"ben_msisdn\",\n",
    "    \"msisdn_channel\",\n",
    "    \"staff_name\"\n",
    "]\n",
    "train = pd.read_parquet(DATA_DIR+\"/data-2m.snappy.parquet\", columns=use_cols)\n",
    "train.head()"
   ]
  },
  {
   "cell_type": "code",
   "execution_count": 4,
   "metadata": {},
   "outputs": [],
   "source": [
    "account = pd.read_parquet(DATA_DIR+\"/account_sale_mapping.snappy.parquet\")\n",
    "sale = pd.read_parquet(DATA_DIR+\"/account_sale.snappy.parquet\")"
   ]
  },
  {
   "cell_type": "code",
   "execution_count": 5,
   "metadata": {},
   "outputs": [],
   "source": [
    "trans_hist = pd.read_parquet(DATA_DIR+\"/trans_hist_2m.snappy.parquet\")\n",
    "trans_hist = trans_hist.groupby(['msisdn'], as_index=False).agg({'trans_amount':['sum', 'mean']})\n",
    "trans_hist.columns = ['_'.join(col) for col in trans_hist.columns]"
   ]
  },
  {
   "cell_type": "code",
   "execution_count": null,
   "metadata": {},
   "outputs": [],
   "source": []
  },
  {
   "cell_type": "code",
   "execution_count": 6,
   "metadata": {},
   "outputs": [],
   "source": [
    "features = [\n",
    "    \"province_code\",\n",
    "    \"district_code\",\n",
    "    \"viettel_bank_code\",\n",
    "    \"channel_type_id\",\n",
    "    \"channel_code\",\n",
    "    \"staff_code\",\n",
    "    \"trans_amount\",\n",
    "    \"trans_fee\",\n",
    "    \"trans_type\",\n",
    "    \"process_code\",\n",
    "    \"channel_fee\",\n",
    "    \"shop_code\",\n",
    "    \"customer_fee\",\n",
    "    \"cust_name\",\n",
    "    \"ben_cust_name\",\n",
    "    \"msisdn\",\n",
    "    \"ben_msisdn\",\n",
    "    \"msisdn_channel\",\n",
    "    \"staff_name\",\n",
    "    \n",
    "    \"msisdn_\",\n",
    "    \"trans_amount_sum\",\n",
    "    \"trans_amount_mean\",\n",
    "    \"RW000076\",\n",
    "    \"date_diff\"\n",
    "]\n",
    "\n",
    "cat_features = [\n",
    "    'viettel_bank_code',\n",
    "    'msisdn_channel',\n",
    "    'msisdn_',\n",
    "    'msisdn',\n",
    "    'district_code',\n",
    "    'process_code',\n",
    "    'staff_code',\n",
    "    'ben_msisdn',\n",
    "    'shop_code',\n",
    "    'province_code',\n",
    "    'channel_code',\n",
    "    'cust_name',\n",
    "    'trans_type',\n",
    "    'staff_name',\n",
    "    'ben_cust_name',\n",
    "    'channel_type_id'\n",
    "]\n",
    "\n",
    "X, y = preprocess_data(train, account, sale, trans_hist, features, cat_features)"
   ]
  },
  {
   "cell_type": "code",
   "execution_count": 7,
   "metadata": {},
   "outputs": [],
   "source": [
    "# y = train['is_fraud']\n",
    "# X = train.drop(['is_fraud'], axis = 1)\n",
    "# y_test = test['is_fraud']\n",
    "# X_test = test.drop(['is_fraud'], axis = 1)\n",
    "    \n",
    "X_train, X_val, y_train, y_val = train_test_split( X, y, test_size=0.2, random_state=42)\n",
    "#X_train, X_val, y_train, y_val = train_test_split( X_train, y_train, test_size=0.2, random_state=42)"
   ]
  },
  {
   "cell_type": "code",
   "execution_count": 8,
   "metadata": {},
   "outputs": [
    {
     "name": "stdout",
     "output_type": "stream",
     "text": [
      "Learning rate set to 0.031154\n",
      "0:\tlearn: 0.9020311\ttest: 0.9282218\tbest: 0.9282218 (0)\ttotal: 481ms\tremaining: 8m\n",
      "25:\tlearn: 0.9954358\ttest: 0.9968628\tbest: 0.9968628 (25)\ttotal: 12.9s\tremaining: 8m 2s\n",
      "50:\tlearn: 0.9969675\ttest: 0.9979018\tbest: 0.9979033 (49)\ttotal: 25s\tremaining: 7m 45s\n",
      "75:\tlearn: 0.9971088\ttest: 0.9980640\tbest: 0.9980640 (75)\ttotal: 37.3s\tremaining: 7m 33s\n",
      "100:\tlearn: 0.9972282\ttest: 0.9981664\tbest: 0.9981664 (100)\ttotal: 49.6s\tremaining: 7m 21s\n",
      "125:\tlearn: 0.9974022\ttest: 0.9982652\tbest: 0.9982652 (125)\ttotal: 1m 2s\tremaining: 7m 11s\n",
      "150:\tlearn: 0.9975098\ttest: 0.9983362\tbest: 0.9983362 (150)\ttotal: 1m 14s\tremaining: 6m 59s\n",
      "175:\tlearn: 0.9975754\ttest: 0.9983771\tbest: 0.9983771 (175)\ttotal: 1m 26s\tremaining: 6m 46s\n",
      "200:\tlearn: 0.9976222\ttest: 0.9984089\tbest: 0.9984089 (200)\ttotal: 1m 38s\tremaining: 6m 33s\n",
      "225:\tlearn: 0.9976784\ttest: 0.9984445\tbest: 0.9984445 (225)\ttotal: 1m 51s\tremaining: 6m 20s\n",
      "250:\tlearn: 0.9977258\ttest: 0.9984723\tbest: 0.9984723 (250)\ttotal: 2m 3s\tremaining: 6m 9s\n",
      "275:\tlearn: 0.9977670\ttest: 0.9984965\tbest: 0.9984965 (275)\ttotal: 2m 15s\tremaining: 5m 56s\n",
      "300:\tlearn: 0.9978001\ttest: 0.9985180\tbest: 0.9985180 (300)\ttotal: 2m 28s\tremaining: 5m 44s\n",
      "325:\tlearn: 0.9978482\ttest: 0.9985501\tbest: 0.9985501 (325)\ttotal: 2m 41s\tremaining: 5m 33s\n",
      "350:\tlearn: 0.9978775\ttest: 0.9985678\tbest: 0.9985678 (350)\ttotal: 2m 53s\tremaining: 5m 21s\n",
      "375:\tlearn: 0.9979050\ttest: 0.9985870\tbest: 0.9985870 (375)\ttotal: 3m 6s\tremaining: 5m 9s\n",
      "400:\tlearn: 0.9979290\ttest: 0.9986003\tbest: 0.9986003 (400)\ttotal: 3m 18s\tremaining: 4m 56s\n",
      "425:\tlearn: 0.9979589\ttest: 0.9986202\tbest: 0.9986202 (425)\ttotal: 3m 31s\tremaining: 4m 44s\n",
      "450:\tlearn: 0.9979774\ttest: 0.9986324\tbest: 0.9986324 (450)\ttotal: 3m 43s\tremaining: 4m 31s\n",
      "475:\tlearn: 0.9979953\ttest: 0.9986442\tbest: 0.9986442 (472)\ttotal: 3m 55s\tremaining: 4m 19s\n",
      "500:\tlearn: 0.9980128\ttest: 0.9986550\tbest: 0.9986550 (500)\ttotal: 4m 8s\tremaining: 4m 7s\n",
      "525:\tlearn: 0.9980354\ttest: 0.9986677\tbest: 0.9986677 (525)\ttotal: 4m 21s\tremaining: 3m 55s\n",
      "550:\tlearn: 0.9980495\ttest: 0.9986762\tbest: 0.9986762 (550)\ttotal: 4m 34s\tremaining: 3m 43s\n",
      "575:\tlearn: 0.9980687\ttest: 0.9986896\tbest: 0.9986896 (575)\ttotal: 4m 48s\tremaining: 3m 32s\n",
      "600:\tlearn: 0.9980814\ttest: 0.9986976\tbest: 0.9986976 (600)\ttotal: 5m 2s\tremaining: 3m 20s\n",
      "625:\tlearn: 0.9980929\ttest: 0.9987035\tbest: 0.9987035 (621)\ttotal: 5m 16s\tremaining: 3m 9s\n",
      "650:\tlearn: 0.9981059\ttest: 0.9987106\tbest: 0.9987106 (650)\ttotal: 5m 30s\tremaining: 2m 57s\n",
      "675:\tlearn: 0.9981178\ttest: 0.9987174\tbest: 0.9987174 (675)\ttotal: 5m 43s\tremaining: 2m 44s\n",
      "700:\tlearn: 0.9981279\ttest: 0.9987230\tbest: 0.9987230 (700)\ttotal: 5m 57s\tremaining: 2m 32s\n",
      "725:\tlearn: 0.9981377\ttest: 0.9987282\tbest: 0.9987282 (725)\ttotal: 6m 11s\tremaining: 2m 20s\n",
      "750:\tlearn: 0.9981470\ttest: 0.9987343\tbest: 0.9987343 (750)\ttotal: 6m 24s\tremaining: 2m 7s\n",
      "775:\tlearn: 0.9981557\ttest: 0.9987397\tbest: 0.9987397 (774)\ttotal: 6m 36s\tremaining: 1m 54s\n",
      "800:\tlearn: 0.9981664\ttest: 0.9987467\tbest: 0.9987467 (800)\ttotal: 6m 49s\tremaining: 1m 41s\n",
      "825:\tlearn: 0.9981749\ttest: 0.9987527\tbest: 0.9987527 (823)\ttotal: 7m 2s\tremaining: 1m 29s\n",
      "850:\tlearn: 0.9981816\ttest: 0.9987563\tbest: 0.9987565 (849)\ttotal: 7m 14s\tremaining: 1m 16s\n",
      "875:\tlearn: 0.9981914\ttest: 0.9987634\tbest: 0.9987634 (875)\ttotal: 7m 27s\tremaining: 1m 3s\n",
      "900:\tlearn: 0.9981982\ttest: 0.9987668\tbest: 0.9987668 (900)\ttotal: 7m 39s\tremaining: 50.5s\n",
      "925:\tlearn: 0.9982055\ttest: 0.9987715\tbest: 0.9987715 (925)\ttotal: 7m 51s\tremaining: 37.7s\n",
      "950:\tlearn: 0.9982108\ttest: 0.9987749\tbest: 0.9987749 (950)\ttotal: 8m 4s\tremaining: 25s\n",
      "975:\tlearn: 0.9982182\ttest: 0.9987796\tbest: 0.9987796 (975)\ttotal: 8m 16s\tremaining: 12.2s\n",
      "999:\tlearn: 0.9982264\ttest: 0.9987853\tbest: 0.9987853 (998)\ttotal: 8m 28s\tremaining: 0us\n",
      "bestTest = 0.9987853169\n",
      "bestIteration = 998\n",
      "Shrink model to first 999 iterations.\n"
     ]
    },
    {
     "data": {
      "text/plain": [
       "<catboost.core.CatBoostClassifier at 0x197427ea940>"
      ]
     },
     "execution_count": 8,
     "metadata": {},
     "output_type": "execute_result"
    }
   ],
   "source": [
    "cat_model = CatBoostClassifier(\n",
    "    iterations=1000,\n",
    "    max_ctr_complexity=1,\n",
    "    random_seed=0,\n",
    "    od_type='Iter',\n",
    "    od_wait=25,\n",
    "    verbose=25,\n",
    "    depth=6,\n",
    "    task_type=\"GPU\",\n",
    "    loss_function=\"Logloss\",\n",
    "    eval_metric=\"AUC\"\n",
    ")\n",
    "\n",
    "cat_model.fit(\n",
    "    X_train, y_train,\n",
    "    cat_features=cat_features,\n",
    "    eval_set=(X_val, y_val)\n",
    ")"
   ]
  },
  {
   "cell_type": "code",
   "execution_count": 9,
   "metadata": {},
   "outputs": [
    {
     "data": {
      "text/plain": [
       "22"
      ]
     },
     "execution_count": 9,
     "metadata": {},
     "output_type": "execute_result"
    }
   ],
   "source": [
    "#save_model(cat_model, 'cat-model.saved')\n",
    "import gc\n",
    "pickle.dump(cat_model, open('cat-model.saved', 'wb'))\n",
    "del X, y, X_train, X_val, y_train, y_val\n",
    "gc.collect()"
   ]
  },
  {
   "cell_type": "code",
   "execution_count": 10,
   "metadata": {},
   "outputs": [],
   "source": [
    "loaded_cat_model = pickle.load(open('cat-model.saved', 'rb'))\n",
    "test = pd.read_parquet(DATA_DIR+\"/data-202008.snappy.parquet\")"
   ]
  },
  {
   "cell_type": "code",
   "execution_count": 11,
   "metadata": {},
   "outputs": [],
   "source": [
    "trans_hist = pd.read_parquet(DATA_DIR+\"/trans_hist_202008.snappy.parquet\")\n",
    "trans_hist = trans_hist.groupby(['msisdn'], as_index=False).agg({'trans_amount':['sum', 'mean']})\n",
    "trans_hist.columns = ['_'.join(col) for col in trans_hist.columns]"
   ]
  },
  {
   "cell_type": "code",
   "execution_count": 12,
   "metadata": {},
   "outputs": [],
   "source": [
    "X_test, y_test = preprocess_data(test, account, sale, trans_hist, features, cat_features)"
   ]
  },
  {
   "cell_type": "code",
   "execution_count": 18,
   "metadata": {},
   "outputs": [
    {
     "name": "stdout",
     "output_type": "stream",
     "text": [
      "<class 'pandas.core.frame.DataFrame'>\n",
      "Int64Index: 7367667 entries, 0 to 7367666\n",
      "Data columns (total 24 columns):\n",
      " #   Column             Dtype  \n",
      "---  ------             -----  \n",
      " 0   province_code      object \n",
      " 1   district_code      object \n",
      " 2   viettel_bank_code  object \n",
      " 3   channel_type_id    object \n",
      " 4   channel_code       object \n",
      " 5   staff_code         object \n",
      " 6   trans_amount       float64\n",
      " 7   trans_fee          float64\n",
      " 8   trans_type         object \n",
      " 9   process_code       object \n",
      " 10  channel_fee        float64\n",
      " 11  shop_code          object \n",
      " 12  customer_fee       float64\n",
      " 13  cust_name          object \n",
      " 14  ben_cust_name      object \n",
      " 15  msisdn             object \n",
      " 16  ben_msisdn         object \n",
      " 17  msisdn_channel     object \n",
      " 18  staff_name         object \n",
      " 19  msisdn_            object \n",
      " 20  trans_amount_sum   float64\n",
      " 21  trans_amount_mean  float64\n",
      " 22  RW000076           bool   \n",
      " 23  date_diff          int64  \n",
      "dtypes: bool(1), float64(6), int64(1), object(16)\n",
      "memory usage: 1.3+ GB\n"
     ]
    }
   ],
   "source": [
    "X_test.info()"
   ]
  },
  {
   "cell_type": "code",
   "execution_count": 14,
   "metadata": {},
   "outputs": [
    {
     "name": "stdout",
     "output_type": "stream",
     "text": [
      "classification_report: \n",
      "              precision    recall  f1-score   support\n",
      "\n",
      "           0       1.00      1.00      1.00   7339993\n",
      "           1       0.73      0.66      0.69     27674\n",
      "\n",
      "    accuracy                           1.00   7367667\n",
      "   macro avg       0.86      0.83      0.85   7367667\n",
      "weighted avg       1.00      1.00      1.00   7367667\n",
      "\n",
      "confusion_matrix: \n",
      "[[7333143    6850]\n",
      " [   9400   18274]]\n",
      "roc_auc_score: 0.8296988766032419\n",
      "precision_score: 0.7273523324311415\n",
      "recall_score: 0.66033099660331\n",
      "f1_score: 0.6922231902723588\n"
     ]
    }
   ],
   "source": [
    "eval_model(loaded_cat_model, X_test, y_test)"
   ]
  },
  {
   "cell_type": "code",
   "execution_count": 15,
   "metadata": {},
   "outputs": [
    {
     "data": {
      "image/png": "[encoded data removed]",
      "text/plain": [
       "<Figure size 432x288 with 1 Axes>"
      ]
     },
     "metadata": {
      "needs_background": "light"
     },
     "output_type": "display_data"
    }
   ],
   "source": [
    "df_feature_importance = pd.DataFrame(loaded_cat_model.feature_importances_, index=features, columns=['feature importance']).sort_values('feature importance', ascending=False)\n",
    "df_feature_importance.plot(kind='bar');"
   ]
  },
  {
   "cell_type": "code",
   "execution_count": 16,
   "metadata": {},
   "outputs": [
    {
     "data": {
      "image/png": "[encoded data removed]",
      "text/plain": [
       "<Figure size 1440x720 with 1 Axes>"
      ]
     },
     "metadata": {
      "needs_background": "light"
     },
     "output_type": "display_data"
    }
   ],
   "source": [
    "def plot_feature_importance(model, features):\n",
    "    feature_importances = pd.DataFrame(sorted(zip(model.feature_importances_, features)), columns=['Value', 'Feature'])\n",
    "    plt.figure(figsize=(20,10))\n",
    "    sns.barplot(x=\"Value\", y=\"Feature\", data=feature_importances.sort_values(by=\"Value\", ascending=False).iloc[:50])\n",
    "    plt.title(\"Feature Importance\")\n",
    "    plt.tight_layout()\n",
    "    plt.show()\n",
    "plot_feature_importance(loaded_cat_model, features)"
   ]
  },
  {
   "cell_type": "code",
   "execution_count": null,
   "metadata": {},
   "outputs": [],
   "source": []
  }
 ],
 "metadata": {
  "kernelspec": {
   "display_name": "Python 3",
   "language": "python",
   "name": "python3"
  },
  "language_info": {
   "codemirror_mode": {
    "name": "ipython",
    "version": 3
   },
   "file_extension": ".py",
   "mimetype": "text/x-python",
   "name": "python",
   "nbconvert_exporter": "python",
   "pygments_lexer": "ipython3",
   "version": "3.8.0"
  }
 },
 "nbformat": 4,
 "nbformat_minor": 4
}
