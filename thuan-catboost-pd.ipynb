{
 "cells": [
  {
   "cell_type": "code",
   "execution_count": 1,
   "metadata": {},
   "outputs": [],
   "source": [
    "import numpy as np\n",
    "import seaborn as sns \n",
    "import matplotlib.pyplot as plt\n",
    "import pandas as pd\n",
    "from sklearn.model_selection import train_test_split\n",
    "from sklearn.metrics import classification_report, confusion_matrix, roc_auc_score, precision_score, recall_score, f1_score\n",
    "import pickle\n",
    "from catboost import CatBoostClassifier\n",
    "\n",
    "from util import *"
   ]
  },
  {
   "cell_type": "code",
   "execution_count": 2,
   "metadata": {},
   "outputs": [],
   "source": [
    "pd.options.display.max_columns = None"
   ]
  },
  {
   "cell_type": "code",
   "execution_count": 3,
   "metadata": {},
   "outputs": [],
   "source": [
    "train_df = pd.read_parquet(\"data/data-3m.snappy.parquet\")\n",
    "#test_df = pd.read_parquet(\"data/data-202008.snappy.parquet\")"
   ]
  },
  {
   "cell_type": "code",
   "execution_count": 4,
   "metadata": {},
   "outputs": [
    {
     "data": {
      "text/plain": [
       "Index(['province_code', 'district_code', 'status_name', 'cust_name', 'msisdn',\n",
       "       'ben_cust_name', 'ben_msisdn', 'request_date', 'viettel_bank_code',\n",
       "       'channel_type_id', 'msisdn_channel', 'channel_code', 'staff_code',\n",
       "       'trans_amount', 'trans_fee', 'trans_type', 'process_code',\n",
       "       'channel_fee', 'shop_code', 'transfer_type', 'customer_fee',\n",
       "       'fee_partner', 'is_fraud'],\n",
       "      dtype='object')"
      ]
     },
     "execution_count": 4,
     "metadata": {},
     "output_type": "execute_result"
    }
   ],
   "source": [
    "train_df.columns"
   ]
  },
  {
   "cell_type": "code",
   "execution_count": 5,
   "metadata": {},
   "outputs": [],
   "source": [
    "features = [\n",
    "    \"province_code\",\n",
    "    \"district_code\",\n",
    "    \"viettel_bank_code\",\n",
    "    \"channel_type_id\",\n",
    "    \"channel_code\",\n",
    "    \"staff_code\",\n",
    "    \"trans_amount\",\n",
    "    \"trans_fee\",\n",
    "    \"trans_type\",\n",
    "    \"process_code\",\n",
    "    \"channel_fee\",\n",
    "    \"shop_code\",\n",
    "    \"customer_fee\",\n",
    "    \"RW000076\",\n",
    "    \"date_diff\",\n",
    "    \"same_name\",\n",
    "    \"same_phone\",\n",
    "    \"same_phone_channel\",\n",
    "    \"same_phone_channel_ben\"\n",
    "]\n",
    "cat_features = [\"province_code\", \"district_code\",\"viettel_bank_code\",\"channel_code\"\n",
    "                ,\"staff_code\",\"process_code\",\"shop_code\"]\n",
    "\n",
    "X, y = preprocess_data(train_df, features, cat_features)"
   ]
  },
  {
   "cell_type": "code",
   "execution_count": 6,
   "metadata": {},
   "outputs": [],
   "source": [
    "# y = train_df['is_fraud']\n",
    "# X = train_df.drop(['is_fraud'], axis = 1)\n",
    "# y_test = test_df['is_fraud']\n",
    "# X_test = test_df.drop(['is_fraud'], axis = 1)\n",
    "    \n",
    "#X_train, X_val, y_train, y_val = train_test_split( X_train, y_train, test_size=0.2, random_state=42)\n",
    "X_train, X_val, y_train, y_val = train_test_split( X, y, test_size=0.2, random_state=42)\n",
    "#X_train, X_val, y_train, y_val = train_test_split( X_train, y_train, test_size=0.2, random_state=42)"
   ]
  },
  {
   "cell_type": "code",
   "execution_count": 7,
   "metadata": {},
   "outputs": [
    {
     "name": "stdout",
     "output_type": "stream",
     "text": [
      "Learning rate set to 0.031154\n",
      "0:\tlearn: 0.8480520\ttest: 0.8470250\tbest: 0.8470250 (0)\ttotal: 426ms\tremaining: 7m 5s\n",
      "25:\tlearn: 0.9940110\ttest: 0.9941734\tbest: 0.9941734 (25)\ttotal: 11.9s\tremaining: 7m 25s\n",
      "50:\tlearn: 0.9941897\ttest: 0.9943454\tbest: 0.9943564 (40)\ttotal: 23.6s\tremaining: 7m 20s\n",
      "75:\tlearn: 0.9943531\ttest: 0.9944986\tbest: 0.9944986 (75)\ttotal: 35.4s\tremaining: 7m 10s\n",
      "100:\tlearn: 0.9945624\ttest: 0.9947093\tbest: 0.9947093 (100)\ttotal: 47.2s\tremaining: 6m 59s\n",
      "125:\tlearn: 0.9948630\ttest: 0.9950364\tbest: 0.9950364 (125)\ttotal: 59.2s\tremaining: 6m 50s\n",
      "150:\tlearn: 0.9952177\ttest: 0.9953828\tbest: 0.9953828 (150)\ttotal: 1m 11s\tremaining: 6m 41s\n",
      "175:\tlearn: 0.9954900\ttest: 0.9956438\tbest: 0.9956438 (175)\ttotal: 1m 23s\tremaining: 6m 31s\n",
      "200:\tlearn: 0.9956013\ttest: 0.9957480\tbest: 0.9957480 (200)\ttotal: 1m 36s\tremaining: 6m 21s\n",
      "225:\tlearn: 0.9956684\ttest: 0.9958075\tbest: 0.9958075 (225)\ttotal: 1m 48s\tremaining: 6m 12s\n",
      "250:\tlearn: 0.9957133\ttest: 0.9958464\tbest: 0.9958464 (250)\ttotal: 2m 1s\tremaining: 6m 1s\n",
      "275:\tlearn: 0.9957533\ttest: 0.9958793\tbest: 0.9958793 (275)\ttotal: 2m 13s\tremaining: 5m 51s\n",
      "300:\tlearn: 0.9957794\ttest: 0.9959050\tbest: 0.9959050 (300)\ttotal: 2m 26s\tremaining: 5m 40s\n",
      "325:\tlearn: 0.9958080\ttest: 0.9959280\tbest: 0.9959280 (325)\ttotal: 2m 39s\tremaining: 5m 29s\n",
      "350:\tlearn: 0.9958346\ttest: 0.9959506\tbest: 0.9959506 (350)\ttotal: 2m 52s\tremaining: 5m 18s\n",
      "375:\tlearn: 0.9958538\ttest: 0.9959666\tbest: 0.9959666 (375)\ttotal: 3m 5s\tremaining: 5m 7s\n",
      "400:\tlearn: 0.9958718\ttest: 0.9959803\tbest: 0.9959803 (400)\ttotal: 3m 17s\tremaining: 4m 55s\n",
      "425:\tlearn: 0.9958928\ttest: 0.9959980\tbest: 0.9959980 (424)\ttotal: 3m 30s\tremaining: 4m 43s\n",
      "450:\tlearn: 0.9959087\ttest: 0.9960119\tbest: 0.9960119 (450)\ttotal: 3m 42s\tremaining: 4m 30s\n",
      "475:\tlearn: 0.9959270\ttest: 0.9960271\tbest: 0.9960271 (475)\ttotal: 3m 54s\tremaining: 4m 18s\n",
      "500:\tlearn: 0.9959383\ttest: 0.9960359\tbest: 0.9960359 (500)\ttotal: 4m 7s\tremaining: 4m 6s\n",
      "525:\tlearn: 0.9959562\ttest: 0.9960517\tbest: 0.9960517 (524)\ttotal: 4m 19s\tremaining: 3m 54s\n",
      "550:\tlearn: 0.9959751\ttest: 0.9960711\tbest: 0.9960711 (550)\ttotal: 4m 32s\tremaining: 3m 41s\n",
      "575:\tlearn: 0.9959920\ttest: 0.9960880\tbest: 0.9960880 (575)\ttotal: 4m 44s\tremaining: 3m 29s\n",
      "600:\tlearn: 0.9960082\ttest: 0.9961013\tbest: 0.9961013 (599)\ttotal: 4m 57s\tremaining: 3m 17s\n",
      "625:\tlearn: 0.9960197\ttest: 0.9961111\tbest: 0.9961111 (625)\ttotal: 5m 10s\tremaining: 3m 5s\n",
      "650:\tlearn: 0.9960327\ttest: 0.9961231\tbest: 0.9961231 (650)\ttotal: 5m 23s\tremaining: 2m 53s\n",
      "675:\tlearn: 0.9960509\ttest: 0.9961393\tbest: 0.9961393 (675)\ttotal: 5m 36s\tremaining: 2m 41s\n",
      "700:\tlearn: 0.9960674\ttest: 0.9961550\tbest: 0.9961550 (700)\ttotal: 5m 49s\tremaining: 2m 29s\n",
      "725:\tlearn: 0.9960794\ttest: 0.9961656\tbest: 0.9961656 (725)\ttotal: 6m 2s\tremaining: 2m 16s\n",
      "750:\tlearn: 0.9960946\ttest: 0.9961780\tbest: 0.9961780 (750)\ttotal: 6m 15s\tremaining: 2m 4s\n",
      "775:\tlearn: 0.9961045\ttest: 0.9961857\tbest: 0.9961857 (775)\ttotal: 6m 28s\tremaining: 1m 52s\n",
      "800:\tlearn: 0.9961159\ttest: 0.9961947\tbest: 0.9961947 (800)\ttotal: 6m 40s\tremaining: 1m 39s\n",
      "825:\tlearn: 0.9961283\ttest: 0.9962052\tbest: 0.9962052 (825)\ttotal: 6m 53s\tremaining: 1m 27s\n",
      "850:\tlearn: 0.9961429\ttest: 0.9962180\tbest: 0.9962180 (850)\ttotal: 7m 5s\tremaining: 1m 14s\n",
      "875:\tlearn: 0.9961525\ttest: 0.9962258\tbest: 0.9962258 (875)\ttotal: 7m 18s\tremaining: 1m 2s\n",
      "900:\tlearn: 0.9961634\ttest: 0.9962344\tbest: 0.9962344 (900)\ttotal: 7m 31s\tremaining: 49.6s\n",
      "925:\tlearn: 0.9961773\ttest: 0.9962472\tbest: 0.9962472 (925)\ttotal: 7m 44s\tremaining: 37.1s\n",
      "950:\tlearn: 0.9961875\ttest: 0.9962556\tbest: 0.9962556 (950)\ttotal: 7m 56s\tremaining: 24.6s\n",
      "975:\tlearn: 0.9961994\ttest: 0.9962647\tbest: 0.9962647 (975)\ttotal: 8m 9s\tremaining: 12s\n",
      "999:\tlearn: 0.9962094\ttest: 0.9962736\tbest: 0.9962736 (999)\ttotal: 8m 20s\tremaining: 0us\n",
      "bestTest = 0.9962735772\n",
      "bestIteration = 999\n"
     ]
    },
    {
     "data": {
      "text/plain": [
       "<catboost.core.CatBoostClassifier at 0x1b8cd21aa30>"
      ]
     },
     "execution_count": 7,
     "metadata": {},
     "output_type": "execute_result"
    }
   ],
   "source": [
    "cat_model = CatBoostClassifier(\n",
    "    iterations=1000,\n",
    "    max_ctr_complexity=1,\n",
    "    random_seed=0,\n",
    "    od_type='Iter',\n",
    "    od_wait=25,\n",
    "    verbose=25,\n",
    "    depth=6,\n",
    "    task_type=\"GPU\",\n",
    "    loss_function=\"Logloss\",\n",
    "    eval_metric=\"AUC\"\n",
    ")\n",
    "\n",
    "cat_model.fit(\n",
    "    X_train, y_train,\n",
    "    cat_features=cat_features,\n",
    "    eval_set=(X_val, y_val)\n",
    ")"
   ]
  },
  {
   "cell_type": "code",
   "execution_count": 8,
   "metadata": {},
   "outputs": [
    {
     "data": {
      "text/plain": [
       "22"
      ]
     },
     "execution_count": 8,
     "metadata": {},
     "output_type": "execute_result"
    }
   ],
   "source": [
    "#save_model(cat_model, 'cat-model.saved')\n",
    "import gc\n",
    "pickle.dump(cat_model, open('cat-model.saved', 'wb'))\n",
    "del X_train, X_val, y_train, y_val\n",
    "gc.collect()"
   ]
  },
  {
   "cell_type": "code",
   "execution_count": 9,
   "metadata": {},
   "outputs": [],
   "source": [
    "loaded_cat_model = pickle.load(open('cat-model.saved', 'rb'))"
   ]
  },
  {
   "cell_type": "code",
   "execution_count": 10,
   "metadata": {},
   "outputs": [],
   "source": [
    "test_df = pd.read_parquet(\"data/data-202008.snappy.parquet\")\n",
    "X_test, y_test = preprocess_data(test_df, features, cat_features)"
   ]
  },
  {
   "cell_type": "code",
   "execution_count": 11,
   "metadata": {},
   "outputs": [
    {
     "name": "stdout",
     "output_type": "stream",
     "text": [
      "classification_report: \n",
      "              precision    recall  f1-score   support\n",
      "\n",
      "           0       1.00      1.00      1.00   7339993\n",
      "           1       0.80      0.62      0.70     27674\n",
      "\n",
      "    accuracy                           1.00   7367667\n",
      "   macro avg       0.90      0.81      0.85   7367667\n",
      "weighted avg       1.00      1.00      1.00   7367667\n",
      "\n",
      "confusion_matrix: \n",
      "[[7335757    4236]\n",
      " [  10557   17117]]\n",
      "roc_auc_score: 0.8089728444591135\n",
      "precision_score: 0.801620381211071\n",
      "recall_score: 0.6185228011852281\n",
      "f1_score: 0.6982683011401881\n"
     ]
    }
   ],
   "source": [
    "eval_model(loaded_cat_model, X_test, y_test)"
   ]
  },
  {
   "cell_type": "code",
   "execution_count": 13,
   "metadata": {},
   "outputs": [],
   "source": [
    "# from multiprocessing import Pool\n",
    "# import shap\n",
    "# shap_values = loaded_cat_model.get_feature_importance(Pool(X_test, label=y_test,cat_features=cat_features), type=\"ShapValues\")\n",
    "# explainer = shap.Explainer(loaded_cat_model)\n",
    "# shap_values = explainer(X_test)\n",
    "\n",
    "# # visualize the first prediction's explanation\n",
    "# shap.plots.waterfall(shap_values[0])"
   ]
  },
  {
   "cell_type": "code",
   "execution_count": 15,
   "metadata": {},
   "outputs": [
    {
     "data": {
      "text/html": [
       "<div>\n",
       "<style scoped>\n",
       "    .dataframe tbody tr th:only-of-type {\n",
       "        vertical-align: middle;\n",
       "    }\n",
       "\n",
       "    .dataframe tbody tr th {\n",
       "        vertical-align: top;\n",
       "    }\n",
       "\n",
       "    .dataframe thead th {\n",
       "        text-align: right;\n",
       "    }\n",
       "</style>\n",
       "<table border=\"1\" class=\"dataframe\">\n",
       "  <thead>\n",
       "    <tr style=\"text-align: right;\">\n",
       "      <th></th>\n",
       "      <th>feature importance</th>\n",
       "    </tr>\n",
       "  </thead>\n",
       "  <tbody>\n",
       "    <tr>\n",
       "      <th>process_code</th>\n",
       "      <td>48.150590</td>\n",
       "    </tr>\n",
       "    <tr>\n",
       "      <th>same_phone</th>\n",
       "      <td>8.145786</td>\n",
       "    </tr>\n",
       "    <tr>\n",
       "      <th>trans_fee</th>\n",
       "      <td>6.947499</td>\n",
       "    </tr>\n",
       "    <tr>\n",
       "      <th>RW000076</th>\n",
       "      <td>5.513174</td>\n",
       "    </tr>\n",
       "    <tr>\n",
       "      <th>channel_fee</th>\n",
       "      <td>5.047598</td>\n",
       "    </tr>\n",
       "    <tr>\n",
       "      <th>customer_fee</th>\n",
       "      <td>4.535944</td>\n",
       "    </tr>\n",
       "    <tr>\n",
       "      <th>date_diff</th>\n",
       "      <td>3.851257</td>\n",
       "    </tr>\n",
       "    <tr>\n",
       "      <th>trans_amount</th>\n",
       "      <td>3.732329</td>\n",
       "    </tr>\n",
       "    <tr>\n",
       "      <th>staff_code</th>\n",
       "      <td>3.727972</td>\n",
       "    </tr>\n",
       "    <tr>\n",
       "      <th>trans_type</th>\n",
       "      <td>2.603750</td>\n",
       "    </tr>\n",
       "    <tr>\n",
       "      <th>channel_code</th>\n",
       "      <td>1.564008</td>\n",
       "    </tr>\n",
       "    <tr>\n",
       "      <th>district_code</th>\n",
       "      <td>1.519383</td>\n",
       "    </tr>\n",
       "    <tr>\n",
       "      <th>viettel_bank_code</th>\n",
       "      <td>1.273411</td>\n",
       "    </tr>\n",
       "    <tr>\n",
       "      <th>shop_code</th>\n",
       "      <td>1.238389</td>\n",
       "    </tr>\n",
       "    <tr>\n",
       "      <th>same_phone_channel</th>\n",
       "      <td>0.863784</td>\n",
       "    </tr>\n",
       "    <tr>\n",
       "      <th>province_code</th>\n",
       "      <td>0.723759</td>\n",
       "    </tr>\n",
       "    <tr>\n",
       "      <th>channel_type_id</th>\n",
       "      <td>0.350822</td>\n",
       "    </tr>\n",
       "    <tr>\n",
       "      <th>same_phone_channel_ben</th>\n",
       "      <td>0.188585</td>\n",
       "    </tr>\n",
       "    <tr>\n",
       "      <th>same_name</th>\n",
       "      <td>0.021959</td>\n",
       "    </tr>\n",
       "    <tr>\n",
       "      <th>fee_partner</th>\n",
       "      <td>0.000000</td>\n",
       "    </tr>\n",
       "  </tbody>\n",
       "</table>\n",
       "</div>"
      ],
      "text/plain": [
       "                        feature importance\n",
       "process_code                     48.150590\n",
       "same_phone                        8.145786\n",
       "trans_fee                         6.947499\n",
       "RW000076                          5.513174\n",
       "channel_fee                       5.047598\n",
       "customer_fee                      4.535944\n",
       "date_diff                         3.851257\n",
       "trans_amount                      3.732329\n",
       "staff_code                        3.727972\n",
       "trans_type                        2.603750\n",
       "channel_code                      1.564008\n",
       "district_code                     1.519383\n",
       "viettel_bank_code                 1.273411\n",
       "shop_code                         1.238389\n",
       "same_phone_channel                0.863784\n",
       "province_code                     0.723759\n",
       "channel_type_id                   0.350822\n",
       "same_phone_channel_ben            0.188585\n",
       "same_name                         0.021959\n",
       "fee_partner                       0.000000"
      ]
     },
     "execution_count": 15,
     "metadata": {},
     "output_type": "execute_result"
    }
   ],
   "source": [
    "df_feature_importance = pd.DataFrame(loaded_cat_model.feature_importances_, index=features, columns=['feature importance']).sort_values('feature importance', ascending=False)\n",
    "df_feature_importance"
   ]
  },
  {
   "cell_type": "code",
   "execution_count": 16,
   "metadata": {},
   "outputs": [
    {
     "data": {
      "image/png": "[encoded data removed]",
      "text/plain": [
       "<Figure size 432x288 with 1 Axes>"
      ]
     },
     "metadata": {
      "needs_background": "light"
     },
     "output_type": "display_data"
    }
   ],
   "source": [
    "df_feature_importance.plot(kind='bar');"
   ]
  },
  {
   "cell_type": "code",
   "execution_count": 17,
   "metadata": {},
   "outputs": [],
   "source": [
    "def plot_feature_importance(model, features):\n",
    "    feature_importances = pd.DataFrame(sorted(zip(model.feature_importances_, features)), columns=['Value', 'Feature'])\n",
    "    plt.figure(figsize=(20,10))\n",
    "    sns.barplot(x=\"Value\", y=\"Feature\", data=feature_importances.sort_values(by=\"Value\", ascending=False).iloc[:50])\n",
    "    plt.title(\"Feature Importance\")\n",
    "    plt.tight_layout()\n",
    "    plt.show()"
   ]
  },
  {
   "cell_type": "code",
   "execution_count": 18,
   "metadata": {},
   "outputs": [
    {
     "data": {
      "image/png": "[encoded data removed]",
      "text/plain": [
       "<Figure size 1440x720 with 1 Axes>"
      ]
     },
     "metadata": {
      "needs_background": "light"
     },
     "output_type": "display_data"
    }
   ],
   "source": [
    "plot_feature_importance(loaded_cat_model, features)"
   ]
  },
  {
   "cell_type": "code",
   "execution_count": null,
   "metadata": {},
   "outputs": [],
   "source": []
  }
 ],
 "metadata": {
  "kernelspec": {
   "display_name": "Python 3",
   "language": "python",
   "name": "python3"
  },
  "language_info": {
   "codemirror_mode": {
    "name": "ipython",
    "version": 3
   },
   "file_extension": ".py",
   "mimetype": "text/x-python",
   "name": "python",
   "nbconvert_exporter": "python",
   "pygments_lexer": "ipython3",
   "version": "3.8.0"
  }
 },
 "nbformat": 4,
 "nbformat_minor": 4
}
